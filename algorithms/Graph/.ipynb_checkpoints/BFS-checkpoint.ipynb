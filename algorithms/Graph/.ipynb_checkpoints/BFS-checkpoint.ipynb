{
 "cells": [
  {
   "cell_type": "markdown",
   "metadata": {},
   "source": [
    "*Граф* - абстрктная математическая конструкция, которая применятся для моделирования реальной задачи путём её разделения на множество связанных узлов. Каждый такой узел называется *вершиной*, а каждое соединение - *ребром*."
   ]
  },
  {
   "cell_type": "code",
   "execution_count": 7,
   "metadata": {},
   "outputs": [],
   "source": [
    "from __future__ import annotations\n",
    "from dataclasses import dataclass\n",
    "from typing import TypeVar, Generic, List, Optional"
   ]
  },
  {
   "cell_type": "code",
   "execution_count": 23,
   "metadata": {},
   "outputs": [
    {
     "name": "stdout",
     "output_type": "stream",
     "text": [
      "Moscow --> USA\n",
      "USA    --> Moscow\n"
     ]
    }
   ],
   "source": [
    "@dataclass\n",
    "class Edge:\n",
    "    u: int # the \"from\" vertex\n",
    "    v: int # the \"to\" vertex\n",
    "\n",
    "    def reversed(self) -> Edge:\n",
    "        return Edge(self.v, self.u)\n",
    "\n",
    "    def __str__(self) -> str:\n",
    "        return f\"{self.u:6} --> {self.v}\"\n",
    "\n",
    "print(Edge('Moscow', 'USA'),\n",
    "     Edge('Moscow', 'USA').reversed(),sep='\\n')"
   ]
  },
  {
   "cell_type": "code",
   "execution_count": 6,
   "metadata": {
    "scrolled": true
   },
   "outputs": [
    {
     "name": "stdout",
     "output_type": "stream",
     "text": [
      "A -> B\n"
     ]
    }
   ],
   "source": [
    "print(Edge('A', 'B'))"
   ]
  },
  {
   "cell_type": "code",
   "execution_count": 50,
   "metadata": {},
   "outputs": [],
   "source": [
    "V = TypeVar('V') # type of the vertices in the graph\n",
    "\n",
    "\n",
    "class Graph(Generic[V]):\n",
    "    def __init__(self, vertices: List[V] = []) -> None:\n",
    "        self._vertices: List[V] = vertices\n",
    "        self._edges: List[List[Edge]] = [[] for _ in vertices]\n",
    "\n",
    "    @property\n",
    "    def vertex_count(self):\n",
    "        \"\"\"Количество вершин\"\"\"\n",
    "        return len(self._vertices)\n",
    "\n",
    "    @property\n",
    "    def edge_count(self):\n",
    "        \"\"\"Количество рёбер\"\"\"\n",
    "        return sum(map(len, self._edges))\n",
    "\n",
    "    def add_vertex(self, vertex: V) -> int:\n",
    "        \"\"\"Добавляет вершину к графу и возращает ее индекс\"\"\"\n",
    "        self._vertices.append(vertex)\n",
    "        self._edges.append([]) # пустой список для рёбер\n",
    "        return self.vertex_count - 1\n",
    "\n",
    "    # (convenience method)\n",
    "    def add_edge(self, edge: Edge) -> None:\n",
    "        \"\"\"Это неориентированный граф, поэтому мы всегда добавляем ребра в обоих направлениях\"\"\"\n",
    "        self._edges[edge.u].append(edge)\n",
    "        self._edges[edge.v].append(edge.reversed())\n",
    "\n",
    "    # (convenience method)\n",
    "    def add_edge_by_indices(self, u, v):\n",
    "        \"\"\"Добавляет ребро с помощью индексов вершин\"\"\"\n",
    "        edge: Edge = Edge(u, v)\n",
    "        self.add_edge(edge)\n",
    "\n",
    "    # (convenience method)\n",
    "    def add_edge_by_vertices(self, first: V, second: V):\n",
    "        \"\"\"Добавляет ребро, просмотрев индексы вершин\"\"\"\n",
    "        u: int = self._vertices.index(first)\n",
    "        v: int = self._vertices.index(second)\n",
    "        self.add_edge_by_indices(u, v)\n",
    "\n",
    "    def vertex_at(self, index) -> V:\n",
    "        \"\"\"Возращает вершину по определенному индексу\"\"\"\n",
    "        return self._vertices[index]\n",
    "\n",
    "    def index_of(self, vertex: V):\n",
    "        \"\"\"Возращает индекс вершины в графе\"\"\"\n",
    "        return self._vertices.index(vertex)\n",
    "\n",
    "    def neighbors_for_index(self, index) -> List[V]:\n",
    "        \"\"\"Возвращает все соседние вершины, связанные с данной вершиной по некоторому индексу\"\"\"\n",
    "        return list(map(self.vertex_at, [e.v for e in self._edges[index]]))\n",
    "\n",
    "    # (convenience method)\n",
    "    def neighbors_for_vertex(self, vertex: V) -> List[V]:\n",
    "        \"\"\"Поиск индекса вершины; и поиск ее соседей\"\"\"\n",
    "        return self.neighbors_for_index(self.index_of(vertex))\n",
    "\n",
    "    def edges_for_index(self, index) -> List[Edge]:\n",
    "        \"\"\"Возвращает все ребра, связанные с вершиной по некоторому индексу\"\"\"\n",
    "        return self._edges[index]\n",
    "\n",
    "    # (convenience method)\n",
    "    def edges_for_vertex(self, vertex: V) -> List[Edge]:\n",
    "        \"\"\"Поиск индекса вершины; возращает её рёбра\"\"\"\n",
    "        return self.edges_for_index(self.index_of(vertex))\n",
    "\n",
    "    def __str__(self) -> str:\n",
    "        desc = \"\"\n",
    "        for i in range(self.vertex_count):\n",
    "            desc += f\"{self.vertex_at(i):13} -> {self.neighbors_for_index(i)}\\n\"\n",
    "        return desc"
   ]
  },
  {
   "cell_type": "code",
   "execution_count": 51,
   "metadata": {},
   "outputs": [
    {
     "name": "stdout",
     "output_type": "stream",
     "text": [
      "Seattle       -> ['Chicago', 'San Francisco']\n",
      "San Francisco -> ['Seattle', 'Riverside', 'Los Angeles']\n",
      "Los Angeles   -> ['San Francisco', 'Riverside', 'Phoenix']\n",
      "Riverside     -> ['San Francisco', 'Los Angeles', 'Phoenix', 'Chicago']\n",
      "Phoenix       -> ['Los Angeles', 'Riverside', 'Dallas', 'Houston']\n",
      "Chicago       -> ['Seattle', 'Riverside', 'Dallas', 'Atlanta', 'Detroit']\n",
      "Boston        -> ['Detroit', 'New York']\n",
      "New York      -> ['Detroit', 'Boston', 'Philadelphia']\n",
      "Atlanta       -> ['Dallas', 'Houston', 'Chicago', 'Washington', 'Miami']\n",
      "Miami         -> ['Houston', 'Atlanta', 'Washington']\n",
      "Dallas        -> ['Phoenix', 'Chicago', 'Atlanta', 'Houston']\n",
      "Houston       -> ['Phoenix', 'Dallas', 'Atlanta', 'Miami']\n",
      "Detroit       -> ['Chicago', 'Boston', 'Washington', 'New York']\n",
      "Philadelphia  -> ['New York', 'Washington']\n",
      "Washington    -> ['Atlanta', 'Miami', 'Detroit', 'Philadelphia']\n",
      "\n"
     ]
    }
   ],
   "source": [
    "city_graph: Graph[str] = Graph([\"Seattle\", \"San Francisco\", \"Los Angeles\", \"Riverside\", \"Phoenix\", \"Chicago\", \"Boston\", \"New York\", \"Atlanta\", \"Miami\", \"Dallas\", \"Houston\", \"Detroit\", \"Philadelphia\", \"Washington\"])\n",
    "city_graph.add_edge_by_vertices(\"Seattle\", \"Chicago\")\n",
    "city_graph.add_edge_by_vertices(\"Seattle\", \"San Francisco\")\n",
    "city_graph.add_edge_by_vertices(\"San Francisco\", \"Riverside\")\n",
    "city_graph.add_edge_by_vertices(\"San Francisco\", \"Los Angeles\")\n",
    "city_graph.add_edge_by_vertices(\"Los Angeles\", \"Riverside\")\n",
    "city_graph.add_edge_by_vertices(\"Los Angeles\", \"Phoenix\")\n",
    "city_graph.add_edge_by_vertices(\"Riverside\", \"Phoenix\")\n",
    "city_graph.add_edge_by_vertices(\"Riverside\", \"Chicago\")\n",
    "city_graph.add_edge_by_vertices(\"Phoenix\", \"Dallas\")\n",
    "city_graph.add_edge_by_vertices(\"Phoenix\", \"Houston\")\n",
    "city_graph.add_edge_by_vertices(\"Dallas\", \"Chicago\")\n",
    "city_graph.add_edge_by_vertices(\"Dallas\", \"Atlanta\")\n",
    "city_graph.add_edge_by_vertices(\"Dallas\", \"Houston\")\n",
    "city_graph.add_edge_by_vertices(\"Houston\", \"Atlanta\")\n",
    "city_graph.add_edge_by_vertices(\"Houston\", \"Miami\")\n",
    "city_graph.add_edge_by_vertices(\"Atlanta\", \"Chicago\")\n",
    "city_graph.add_edge_by_vertices(\"Atlanta\", \"Washington\")\n",
    "city_graph.add_edge_by_vertices(\"Atlanta\", \"Miami\")\n",
    "city_graph.add_edge_by_vertices(\"Miami\", \"Washington\")\n",
    "city_graph.add_edge_by_vertices(\"Chicago\", \"Detroit\")\n",
    "city_graph.add_edge_by_vertices(\"Detroit\", \"Boston\")\n",
    "city_graph.add_edge_by_vertices(\"Detroit\", \"Washington\")\n",
    "city_graph.add_edge_by_vertices(\"Detroit\", \"New York\")\n",
    "city_graph.add_edge_by_vertices(\"Boston\", \"New York\")\n",
    "city_graph.add_edge_by_vertices(\"New York\", \"Philadelphia\")\n",
    "city_graph.add_edge_by_vertices(\"Philadelphia\", \"Washington\")\n",
    "print(city_graph)"
   ]
  },
  {
   "cell_type": "code",
   "execution_count": 26,
   "metadata": {},
   "outputs": [
    {
     "data": {
      "text/plain": [
       "13"
      ]
     },
     "execution_count": 26,
     "metadata": {},
     "output_type": "execute_result"
    }
   ],
   "source": [
    "len('San Francisco')"
   ]
  }
 ],
 "metadata": {
  "kernelspec": {
   "display_name": "Python 3",
   "language": "python",
   "name": "python3"
  },
  "language_info": {
   "codemirror_mode": {
    "name": "ipython",
    "version": 3
   },
   "file_extension": ".py",
   "mimetype": "text/x-python",
   "name": "python",
   "nbconvert_exporter": "python",
   "pygments_lexer": "ipython3",
   "version": "3.8.3"
  }
 },
 "nbformat": 4,
 "nbformat_minor": 4
}
