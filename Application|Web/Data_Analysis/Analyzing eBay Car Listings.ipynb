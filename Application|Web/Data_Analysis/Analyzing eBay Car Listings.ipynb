{
 "cells": [
  {
   "cell_type": "markdown",
   "metadata": {},
   "source": [
    "Анализ объявлений о продаже автомобилей с сайтa eBay.\n",
    "<br>**Цель:** определить средние цены популярных марок автомобилей и посмотреть, есть ли какая-либо корреляция со средним пробегом по маркам"
   ]
  },
  {
   "cell_type": "code",
   "execution_count": 1,
   "metadata": {},
   "outputs": [
    {
     "data": {
      "text/plain": [
       "(50000, 20)"
      ]
     },
     "execution_count": 1,
     "metadata": {},
     "output_type": "execute_result"
    }
   ],
   "source": [
    "import seaborn as sns\n",
    "import pandas as pd\n",
    "import numpy as np\n",
    "cm = sns.light_palette(\"pink\", as_cmap=True)\n",
    "\n",
    "autos = pd.read_csv('data/autos.csv',encoding = 'Latin-1')\n",
    "autos.shape"
   ]
  },
  {
   "cell_type": "code",
   "execution_count": 2,
   "metadata": {},
   "outputs": [
    {
     "data": {
      "text/html": [
       "<div>\n",
       "<style scoped>\n",
       "    .dataframe tbody tr th:only-of-type {\n",
       "        vertical-align: middle;\n",
       "    }\n",
       "\n",
       "    .dataframe tbody tr th {\n",
       "        vertical-align: top;\n",
       "    }\n",
       "\n",
       "    .dataframe thead th {\n",
       "        text-align: right;\n",
       "    }\n",
       "</style>\n",
       "<table border=\"1\" class=\"dataframe\">\n",
       "  <thead>\n",
       "    <tr style=\"text-align: right;\">\n",
       "      <th></th>\n",
       "      <th>dateCrawled</th>\n",
       "      <th>name</th>\n",
       "      <th>seller</th>\n",
       "      <th>offerType</th>\n",
       "      <th>price</th>\n",
       "      <th>abtest</th>\n",
       "      <th>vehicleType</th>\n",
       "      <th>yearOfRegistration</th>\n",
       "      <th>gearbox</th>\n",
       "      <th>powerPS</th>\n",
       "      <th>model</th>\n",
       "      <th>odometer</th>\n",
       "      <th>monthOfRegistration</th>\n",
       "      <th>fuelType</th>\n",
       "      <th>brand</th>\n",
       "      <th>notRepairedDamage</th>\n",
       "      <th>dateCreated</th>\n",
       "      <th>nrOfPictures</th>\n",
       "      <th>postalCode</th>\n",
       "      <th>lastSeen</th>\n",
       "    </tr>\n",
       "  </thead>\n",
       "  <tbody>\n",
       "    <tr>\n",
       "      <th>0</th>\n",
       "      <td>2016-03-26 17:47:46</td>\n",
       "      <td>Peugeot_807_160_NAVTECH_ON_BOARD</td>\n",
       "      <td>privat</td>\n",
       "      <td>Angebot</td>\n",
       "      <td>$5,000</td>\n",
       "      <td>control</td>\n",
       "      <td>bus</td>\n",
       "      <td>2004</td>\n",
       "      <td>manuell</td>\n",
       "      <td>158</td>\n",
       "      <td>andere</td>\n",
       "      <td>150,000km</td>\n",
       "      <td>3</td>\n",
       "      <td>lpg</td>\n",
       "      <td>peugeot</td>\n",
       "      <td>nein</td>\n",
       "      <td>2016-03-26 00:00:00</td>\n",
       "      <td>0</td>\n",
       "      <td>79588</td>\n",
       "      <td>2016-04-06 06:45:54</td>\n",
       "    </tr>\n",
       "    <tr>\n",
       "      <th>1</th>\n",
       "      <td>2016-04-04 13:38:56</td>\n",
       "      <td>BMW_740i_4_4_Liter_HAMANN_UMBAU_Mega_Optik</td>\n",
       "      <td>privat</td>\n",
       "      <td>Angebot</td>\n",
       "      <td>$8,500</td>\n",
       "      <td>control</td>\n",
       "      <td>limousine</td>\n",
       "      <td>1997</td>\n",
       "      <td>automatik</td>\n",
       "      <td>286</td>\n",
       "      <td>7er</td>\n",
       "      <td>150,000km</td>\n",
       "      <td>6</td>\n",
       "      <td>benzin</td>\n",
       "      <td>bmw</td>\n",
       "      <td>nein</td>\n",
       "      <td>2016-04-04 00:00:00</td>\n",
       "      <td>0</td>\n",
       "      <td>71034</td>\n",
       "      <td>2016-04-06 14:45:08</td>\n",
       "    </tr>\n",
       "    <tr>\n",
       "      <th>2</th>\n",
       "      <td>2016-03-26 18:57:24</td>\n",
       "      <td>Volkswagen_Golf_1.6_United</td>\n",
       "      <td>privat</td>\n",
       "      <td>Angebot</td>\n",
       "      <td>$8,990</td>\n",
       "      <td>test</td>\n",
       "      <td>limousine</td>\n",
       "      <td>2009</td>\n",
       "      <td>manuell</td>\n",
       "      <td>102</td>\n",
       "      <td>golf</td>\n",
       "      <td>70,000km</td>\n",
       "      <td>7</td>\n",
       "      <td>benzin</td>\n",
       "      <td>volkswagen</td>\n",
       "      <td>nein</td>\n",
       "      <td>2016-03-26 00:00:00</td>\n",
       "      <td>0</td>\n",
       "      <td>35394</td>\n",
       "      <td>2016-04-06 20:15:37</td>\n",
       "    </tr>\n",
       "    <tr>\n",
       "      <th>3</th>\n",
       "      <td>2016-03-12 16:58:10</td>\n",
       "      <td>Smart_smart_fortwo_coupe_softouch/F1/Klima/Pan...</td>\n",
       "      <td>privat</td>\n",
       "      <td>Angebot</td>\n",
       "      <td>$4,350</td>\n",
       "      <td>control</td>\n",
       "      <td>kleinwagen</td>\n",
       "      <td>2007</td>\n",
       "      <td>automatik</td>\n",
       "      <td>71</td>\n",
       "      <td>fortwo</td>\n",
       "      <td>70,000km</td>\n",
       "      <td>6</td>\n",
       "      <td>benzin</td>\n",
       "      <td>smart</td>\n",
       "      <td>nein</td>\n",
       "      <td>2016-03-12 00:00:00</td>\n",
       "      <td>0</td>\n",
       "      <td>33729</td>\n",
       "      <td>2016-03-15 03:16:28</td>\n",
       "    </tr>\n",
       "    <tr>\n",
       "      <th>4</th>\n",
       "      <td>2016-04-01 14:38:50</td>\n",
       "      <td>Ford_Focus_1_6_Benzin_TÜV_neu_ist_sehr_gepfleg...</td>\n",
       "      <td>privat</td>\n",
       "      <td>Angebot</td>\n",
       "      <td>$1,350</td>\n",
       "      <td>test</td>\n",
       "      <td>kombi</td>\n",
       "      <td>2003</td>\n",
       "      <td>manuell</td>\n",
       "      <td>0</td>\n",
       "      <td>focus</td>\n",
       "      <td>150,000km</td>\n",
       "      <td>7</td>\n",
       "      <td>benzin</td>\n",
       "      <td>ford</td>\n",
       "      <td>nein</td>\n",
       "      <td>2016-04-01 00:00:00</td>\n",
       "      <td>0</td>\n",
       "      <td>39218</td>\n",
       "      <td>2016-04-01 14:38:50</td>\n",
       "    </tr>\n",
       "  </tbody>\n",
       "</table>\n",
       "</div>"
      ],
      "text/plain": [
       "           dateCrawled                                               name  \\\n",
       "0  2016-03-26 17:47:46                   Peugeot_807_160_NAVTECH_ON_BOARD   \n",
       "1  2016-04-04 13:38:56         BMW_740i_4_4_Liter_HAMANN_UMBAU_Mega_Optik   \n",
       "2  2016-03-26 18:57:24                         Volkswagen_Golf_1.6_United   \n",
       "3  2016-03-12 16:58:10  Smart_smart_fortwo_coupe_softouch/F1/Klima/Pan...   \n",
       "4  2016-04-01 14:38:50  Ford_Focus_1_6_Benzin_TÜV_neu_ist_sehr_gepfleg...   \n",
       "\n",
       "   seller offerType   price   abtest vehicleType  yearOfRegistration  \\\n",
       "0  privat   Angebot  $5,000  control         bus                2004   \n",
       "1  privat   Angebot  $8,500  control   limousine                1997   \n",
       "2  privat   Angebot  $8,990     test   limousine                2009   \n",
       "3  privat   Angebot  $4,350  control  kleinwagen                2007   \n",
       "4  privat   Angebot  $1,350     test       kombi                2003   \n",
       "\n",
       "     gearbox  powerPS   model   odometer  monthOfRegistration fuelType  \\\n",
       "0    manuell      158  andere  150,000km                    3      lpg   \n",
       "1  automatik      286     7er  150,000km                    6   benzin   \n",
       "2    manuell      102    golf   70,000km                    7   benzin   \n",
       "3  automatik       71  fortwo   70,000km                    6   benzin   \n",
       "4    manuell        0   focus  150,000km                    7   benzin   \n",
       "\n",
       "        brand notRepairedDamage          dateCreated  nrOfPictures  \\\n",
       "0     peugeot              nein  2016-03-26 00:00:00             0   \n",
       "1         bmw              nein  2016-04-04 00:00:00             0   \n",
       "2  volkswagen              nein  2016-03-26 00:00:00             0   \n",
       "3       smart              nein  2016-03-12 00:00:00             0   \n",
       "4        ford              nein  2016-04-01 00:00:00             0   \n",
       "\n",
       "   postalCode             lastSeen  \n",
       "0       79588  2016-04-06 06:45:54  \n",
       "1       71034  2016-04-06 14:45:08  \n",
       "2       35394  2016-04-06 20:15:37  \n",
       "3       33729  2016-03-15 03:16:28  \n",
       "4       39218  2016-04-01 14:38:50  "
      ]
     },
     "execution_count": 2,
     "metadata": {},
     "output_type": "execute_result"
    }
   ],
   "source": [
    "pd.options.display.max_rows=15\n",
    "autos.head()"
   ]
  },
  {
   "cell_type": "markdown",
   "metadata": {},
   "source": [
    "Фрейм данных представляет собой смесь целочисленных и строковых типов данных.\n",
    "Поскольку данные ценового столбца представлены в виде строк, может оказаться полезным преобразовать этот столбец в числовой тип данных."
   ]
  },
  {
   "cell_type": "code",
   "execution_count": 3,
   "metadata": {},
   "outputs": [],
   "source": [
    "nameMap = {'dateCrawled':'date_crawled', 'name':'name', 'seller':'seller', 'offerType':'offer_type', 'price':'price', 'abtest':'abtest',\n",
    "         'vehicleType':'vehicle_type', 'yearOfRegistration':'registration_year',   'gearbox':'gearbox', 'powerPS':'power_ps', 'model':'model',\n",
    "            'odometer':'odometer',    'monthOfRegistration':'registration_month', 'fuelType':'fuel_type', 'brand':'brand',\n",
    "   'notRepairedDamage':'unrepaired_damage',   'dateCreated':'ad_created',     'nrOfPictures':'nr_of_pictures', 'postalCode':'postal_code',\n",
    "            'lastSeen':'last_seen'}\n",
    "\n",
    "autos.rename(mapper=nameMap, axis=1, inplace=True)"
   ]
  },
  {
   "cell_type": "code",
   "execution_count": 4,
   "metadata": {},
   "outputs": [],
   "source": [
    "# Convert price & odometer to numeric values\n",
    "autos['price']    = autos['price'].str.strip().str.replace('$','').str.replace(',','').astype(int)\n",
    "autos['odometer'] = autos['odometer'].str.strip().str.replace('km','').str.replace(',','').astype(int)\n",
    "autos.rename({'odometer':'odometer_km'}, axis=1, inplace=True)"
   ]
  },
  {
   "cell_type": "markdown",
   "metadata": {},
   "source": [
    "### Исследование выбросов в `price` и `odometer_km`"
   ]
  },
  {
   "cell_type": "code",
   "execution_count": 5,
   "metadata": {},
   "outputs": [
    {
     "data": {
      "text/plain": [
       "(2357,)"
      ]
     },
     "execution_count": 5,
     "metadata": {},
     "output_type": "execute_result"
    }
   ],
   "source": [
    "autos['price'].unique().shape"
   ]
  },
  {
   "cell_type": "code",
   "execution_count": 6,
   "metadata": {},
   "outputs": [
    {
     "data": {
      "text/plain": [
       "count    5.000000e+04\n",
       "mean     9.840044e+03\n",
       "std      4.811044e+05\n",
       "min      0.000000e+00\n",
       "25%      1.100000e+03\n",
       "50%      2.950000e+03\n",
       "75%      7.200000e+03\n",
       "max      1.000000e+08\n",
       "Name: price, dtype: float64"
      ]
     },
     "execution_count": 6,
     "metadata": {},
     "output_type": "execute_result"
    }
   ],
   "source": [
    "autos['price'].describe()"
   ]
  },
  {
   "cell_type": "code",
   "execution_count": 7,
   "metadata": {},
   "outputs": [
    {
     "data": {
      "text/plain": [
       "99999999    1\n",
       "27322222    1\n",
       "12345678    3\n",
       "11111111    2\n",
       "10000000    1\n",
       "3890000     1\n",
       "1300000     1\n",
       "1234566     1\n",
       "999999      2\n",
       "999990      1\n",
       "Name: price, dtype: int64"
      ]
     },
     "execution_count": 7,
     "metadata": {},
     "output_type": "execute_result"
    }
   ],
   "source": [
    "autos['price'].value_counts().sort_index(ascending=False).head(10)"
   ]
  },
  {
   "cell_type": "code",
   "execution_count": 8,
   "metadata": {},
   "outputs": [
    {
     "data": {
      "text/plain": [
       "0     1421\n",
       "1      156\n",
       "2        3\n",
       "3        1\n",
       "5        2\n",
       "8        1\n",
       "9        1\n",
       "10       7\n",
       "11       2\n",
       "12       3\n",
       "Name: price, dtype: int64"
      ]
     },
     "execution_count": 8,
     "metadata": {},
     "output_type": "execute_result"
    }
   ],
   "source": [
    "autos['price'].value_counts().sort_index(ascending=True).head(10)"
   ]
  },
  {
   "cell_type": "markdown",
   "metadata": {},
   "source": [
    "Выбросы в данных о ценах, которые надо удалить, находятся за пределами $350000.\n",
    "<br>Также надо удалить 1421 объявления, оцененных в ноль."
   ]
  },
  {
   "cell_type": "code",
   "execution_count": 9,
   "metadata": {},
   "outputs": [],
   "source": [
    "autos = autos[autos['price'].between(1,350001)]"
   ]
  },
  {
   "cell_type": "code",
   "execution_count": 10,
   "metadata": {},
   "outputs": [
    {
     "data": {
      "text/plain": [
       "(13,)"
      ]
     },
     "execution_count": 10,
     "metadata": {},
     "output_type": "execute_result"
    }
   ],
   "source": [
    "autos['odometer_km'].unique().shape"
   ]
  },
  {
   "cell_type": "code",
   "execution_count": 11,
   "metadata": {},
   "outputs": [
    {
     "data": {
      "text/plain": [
       "count     48565.000000\n",
       "mean     125770.101925\n",
       "std       39788.636804\n",
       "min        5000.000000\n",
       "25%      125000.000000\n",
       "50%      150000.000000\n",
       "75%      150000.000000\n",
       "max      150000.000000\n",
       "Name: odometer_km, dtype: float64"
      ]
     },
     "execution_count": 11,
     "metadata": {},
     "output_type": "execute_result"
    }
   ],
   "source": [
    "autos['odometer_km'].describe()"
   ]
  },
  {
   "cell_type": "code",
   "execution_count": 12,
   "metadata": {},
   "outputs": [
    {
     "data": {
      "text/plain": [
       "5000        836\n",
       "10000       253\n",
       "20000       762\n",
       "30000       780\n",
       "40000       815\n",
       "50000      1012\n",
       "60000      1155\n",
       "70000      1217\n",
       "80000      1415\n",
       "90000      1734\n",
       "100000     2115\n",
       "125000     5057\n",
       "150000    31414\n",
       "Name: odometer_km, dtype: int64"
      ]
     },
     "execution_count": 12,
     "metadata": {},
     "output_type": "execute_result"
    }
   ],
   "source": [
    "autos['odometer_km'].value_counts().sort_index(ascending=True)"
   ]
  },
  {
   "cell_type": "markdown",
   "metadata": {},
   "source": [
    "В столбце `odometer_km` не будет каких-либо заметных выбросов.\n",
    "<br>Поскольку существует только 13 уникальных значений, вероятно, выбираются из предопределенных параметров на веб-сайте."
   ]
  },
  {
   "cell_type": "markdown",
   "metadata": {},
   "source": [
    "#### Теперь будут исследованы столбцы `date_crawled`, `ad_created` и `last_seen`."
   ]
  },
  {
   "cell_type": "code",
   "execution_count": 13,
   "metadata": {},
   "outputs": [
    {
     "data": {
      "text/plain": [
       "2016-03-05    0.025327\n",
       "2016-03-06    0.014043\n",
       "2016-03-07    0.036014\n",
       "2016-03-08    0.033296\n",
       "2016-03-09    0.033090\n",
       "2016-03-10    0.032184\n",
       "2016-03-11    0.032575\n",
       "                ...   \n",
       "2016-04-01    0.033687\n",
       "2016-04-02    0.035478\n",
       "2016-04-03    0.038608\n",
       "2016-04-04    0.036487\n",
       "2016-04-05    0.013096\n",
       "2016-04-06    0.003171\n",
       "2016-04-07    0.001400\n",
       "Name: date_crawled, Length: 34, dtype: float64"
      ]
     },
     "execution_count": 13,
     "metadata": {},
     "output_type": "execute_result"
    }
   ],
   "source": [
    "autos['date_crawled'].str[:10].value_counts(normalize=True, dropna=False).sort_index(ascending=True)"
   ]
  },
  {
   "cell_type": "code",
   "execution_count": 14,
   "metadata": {
    "scrolled": true
   },
   "outputs": [
    {
     "data": {
      "text/plain": [
       "2015-06-11    0.000021\n",
       "2015-08-10    0.000021\n",
       "2015-09-09    0.000021\n",
       "2015-11-10    0.000021\n",
       "2015-12-05    0.000021\n",
       "2015-12-30    0.000021\n",
       "2016-01-03    0.000021\n",
       "                ...   \n",
       "2016-04-01    0.033687\n",
       "2016-04-02    0.035149\n",
       "2016-04-03    0.038855\n",
       "2016-04-04    0.036858\n",
       "2016-04-05    0.011819\n",
       "2016-04-06    0.003253\n",
       "2016-04-07    0.001256\n",
       "Name: ad_created, Length: 76, dtype: float64"
      ]
     },
     "execution_count": 14,
     "metadata": {},
     "output_type": "execute_result"
    }
   ],
   "source": [
    "autos['ad_created'].str[:10].value_counts(normalize=True, dropna=False).sort_index(ascending=True)"
   ]
  },
  {
   "cell_type": "markdown",
   "metadata": {},
   "source": [
    "Некоторые объявления довольно старые (до 9 месяцев), однако большинство объявлений попадают в период обхода."
   ]
  },
  {
   "cell_type": "code",
   "execution_count": 15,
   "metadata": {},
   "outputs": [
    {
     "data": {
      "text/plain": [
       "2016-03-05    0.001071\n",
       "2016-03-06    0.004324\n",
       "2016-03-07    0.005395\n",
       "2016-03-08    0.007413\n",
       "2016-03-09    0.009595\n",
       "2016-03-10    0.010666\n",
       "2016-03-11    0.012375\n",
       "                ...   \n",
       "2016-04-01    0.022794\n",
       "2016-04-02    0.024915\n",
       "2016-04-03    0.025203\n",
       "2016-04-04    0.024483\n",
       "2016-04-05    0.124761\n",
       "2016-04-06    0.221806\n",
       "2016-04-07    0.131947\n",
       "Name: last_seen, Length: 34, dtype: float64"
      ]
     },
     "execution_count": 15,
     "metadata": {},
     "output_type": "execute_result"
    }
   ],
   "source": [
    "autos['last_seen'].str[:10].value_counts(normalize=True, dropna=False).sort_index(ascending=True)"
   ]
  },
  {
   "cell_type": "code",
   "execution_count": 16,
   "metadata": {},
   "outputs": [
    {
     "data": {
      "text/plain": [
       "count    48565.000000\n",
       "mean      2004.755421\n",
       "std         88.643887\n",
       "min       1000.000000\n",
       "25%       1999.000000\n",
       "50%       2004.000000\n",
       "75%       2008.000000\n",
       "max       9999.000000\n",
       "Name: registration_year, dtype: float64"
      ]
     },
     "execution_count": 16,
     "metadata": {},
     "output_type": "execute_result"
    }
   ],
   "source": [
    "autos['registration_year'].describe()"
   ]
  },
  {
   "cell_type": "markdown",
   "metadata": {},
   "source": [
    "По-видимому, в столбце `registration_year` есть некоторые нечестные значения года, так как максимальный год составляет 9999, а минимальный-1000. Эти значения являются выбросами и не имеют никакого смысла."
   ]
  },
  {
   "cell_type": "code",
   "execution_count": 17,
   "metadata": {},
   "outputs": [
    {
     "data": {
      "text/plain": [
       "1000    1\n",
       "1001    1\n",
       "1111    1\n",
       "1800    2\n",
       "1910    5\n",
       "1927    1\n",
       "1929    1\n",
       "       ..\n",
       "4800    1\n",
       "5000    4\n",
       "5911    1\n",
       "6200    1\n",
       "8888    1\n",
       "9000    1\n",
       "9999    3\n",
       "Name: registration_year, Length: 95, dtype: int64"
      ]
     },
     "execution_count": 17,
     "metadata": {},
     "output_type": "execute_result"
    }
   ],
   "source": [
    "autos['registration_year'].value_counts().sort_index()"
   ]
  },
  {
   "cell_type": "markdown",
   "metadata": {},
   "source": [
    "Поскольку очень небольшое число перечисленных лет регистрации автомобилей составляет <1900 и существует большой разрыв в годах, эти вероятные выбросы могут быть удалены. Кроме того, любое транспортное средство с регистрационным годом выше 2016 года является ложным, поскольку автомобили не могут быть зарегистрированы после того, как создан список."
   ]
  },
  {
   "cell_type": "code",
   "execution_count": 18,
   "metadata": {},
   "outputs": [
    {
     "data": {
      "text/plain": [
       "2000    0.067608\n",
       "2005    0.062895\n",
       "1999    0.062060\n",
       "2004    0.057904\n",
       "2003    0.057818\n",
       "2006    0.057197\n",
       "2001    0.056468\n",
       "          ...   \n",
       "2011    0.034768\n",
       "2010    0.034040\n",
       "1996    0.029412\n",
       "2012    0.028063\n",
       "1995    0.026285\n",
       "2016    0.026135\n",
       "2013    0.017202\n",
       "Name: registration_year, Length: 20, dtype: float64"
      ]
     },
     "execution_count": 18,
     "metadata": {},
     "output_type": "execute_result"
    }
   ],
   "source": [
    "# Удалить годы регистрации выбросов\n",
    "autos = autos[autos['registration_year'].between(1900,2016)]\n",
    "\n",
    "autos['registration_year'].value_counts(normalize=True).head(20)"
   ]
  },
  {
   "cell_type": "markdown",
   "metadata": {},
   "source": [
    "## Изучение брендов по цене\n",
    "Рассмотрим среднюю цену наиболее популярных 15 брендов, представленных в нашем наборе данных, чтобы выявить любые тенденции."
   ]
  },
  {
   "cell_type": "code",
   "execution_count": 19,
   "metadata": {},
   "outputs": [],
   "source": [
    "popBrands = autos['brand'].value_counts().head(15).index"
   ]
  },
  {
   "cell_type": "code",
   "execution_count": 20,
   "metadata": {},
   "outputs": [],
   "source": [
    "brandPriceData = {}\n",
    "for b in popBrands:\n",
    "    brandPrices = autos.loc[autos['brand'] == b,'price']\n",
    "    brandPriceData[b] = int(brandPrices.mean())"
   ]
  },
  {
   "cell_type": "code",
   "execution_count": 21,
   "metadata": {},
   "outputs": [
    {
     "data": {
      "text/html": [
       "<style  type=\"text/css\" >\n",
       "    #T_f2583d5c_a40d_11ea_a8e4_3c95095f8587row0_col0 {\n",
       "            background-color:  #ffc0cb;\n",
       "            color:  #000000;\n",
       "        }    #T_f2583d5c_a40d_11ea_a8e4_3c95095f8587row1_col0 {\n",
       "            background-color:  #ffc4ce;\n",
       "            color:  #000000;\n",
       "        }    #T_f2583d5c_a40d_11ea_a8e4_3c95095f8587row2_col0 {\n",
       "            background-color:  #ffc5cf;\n",
       "            color:  #000000;\n",
       "        }    #T_f2583d5c_a40d_11ea_a8e4_3c95095f8587row3_col0 {\n",
       "            background-color:  #ffd0d8;\n",
       "            color:  #000000;\n",
       "        }    #T_f2583d5c_a40d_11ea_a8e4_3c95095f8587row4_col0 {\n",
       "            background-color:  #ffd5dd;\n",
       "            color:  #000000;\n",
       "        }    #T_f2583d5c_a40d_11ea_a8e4_3c95095f8587row5_col0 {\n",
       "            background-color:  #ffd9e0;\n",
       "            color:  #000000;\n",
       "        }    #T_f2583d5c_a40d_11ea_a8e4_3c95095f8587row6_col0 {\n",
       "            background-color:  #ffdbe1;\n",
       "            color:  #000000;\n",
       "        }    #T_f2583d5c_a40d_11ea_a8e4_3c95095f8587row7_col0 {\n",
       "            background-color:  #ffdde3;\n",
       "            color:  #000000;\n",
       "        }    #T_f2583d5c_a40d_11ea_a8e4_3c95095f8587row8_col0 {\n",
       "            background-color:  #ffdee4;\n",
       "            color:  #000000;\n",
       "        }    #T_f2583d5c_a40d_11ea_a8e4_3c95095f8587row9_col0 {\n",
       "            background-color:  #ffdfe4;\n",
       "            color:  #000000;\n",
       "        }    #T_f2583d5c_a40d_11ea_a8e4_3c95095f8587row10_col0 {\n",
       "            background-color:  #ffdfe5;\n",
       "            color:  #000000;\n",
       "        }    #T_f2583d5c_a40d_11ea_a8e4_3c95095f8587row11_col0 {\n",
       "            background-color:  #ffe2e7;\n",
       "            color:  #000000;\n",
       "        }    #T_f2583d5c_a40d_11ea_a8e4_3c95095f8587row12_col0 {\n",
       "            background-color:  #ffe3e8;\n",
       "            color:  #000000;\n",
       "        }    #T_f2583d5c_a40d_11ea_a8e4_3c95095f8587row13_col0 {\n",
       "            background-color:  #ffe4e8;\n",
       "            color:  #000000;\n",
       "        }    #T_f2583d5c_a40d_11ea_a8e4_3c95095f8587row14_col0 {\n",
       "            background-color:  #ffe5ea;\n",
       "            color:  #000000;\n",
       "        }</style><table id=\"T_f2583d5c_a40d_11ea_a8e4_3c95095f8587\" ><thead>    <tr>        <th class=\"blank level0\" ></th>        <th class=\"col_heading level0 col0\" >Mean Price</th>    </tr></thead><tbody>\n",
       "                <tr>\n",
       "                        <th id=\"T_f2583d5c_a40d_11ea_a8e4_3c95095f8587level0_row0\" class=\"row_heading level0 row0\" >audi</th>\n",
       "                        <td id=\"T_f2583d5c_a40d_11ea_a8e4_3c95095f8587row0_col0\" class=\"data row0 col0\" >9336</td>\n",
       "            </tr>\n",
       "            <tr>\n",
       "                        <th id=\"T_f2583d5c_a40d_11ea_a8e4_3c95095f8587level0_row1\" class=\"row_heading level0 row1\" >mercedes_benz</th>\n",
       "                        <td id=\"T_f2583d5c_a40d_11ea_a8e4_3c95095f8587row1_col0\" class=\"data row1 col0\" >8628</td>\n",
       "            </tr>\n",
       "            <tr>\n",
       "                        <th id=\"T_f2583d5c_a40d_11ea_a8e4_3c95095f8587level0_row2\" class=\"row_heading level0 row2\" >bmw</th>\n",
       "                        <td id=\"T_f2583d5c_a40d_11ea_a8e4_3c95095f8587row2_col0\" class=\"data row2 col0\" >8332</td>\n",
       "            </tr>\n",
       "            <tr>\n",
       "                        <th id=\"T_f2583d5c_a40d_11ea_a8e4_3c95095f8587level0_row3\" class=\"row_heading level0 row3\" >skoda</th>\n",
       "                        <td id=\"T_f2583d5c_a40d_11ea_a8e4_3c95095f8587row3_col0\" class=\"data row3 col0\" >6368</td>\n",
       "            </tr>\n",
       "            <tr>\n",
       "                        <th id=\"T_f2583d5c_a40d_11ea_a8e4_3c95095f8587level0_row4\" class=\"row_heading level0 row4\" >volkswagen</th>\n",
       "                        <td id=\"T_f2583d5c_a40d_11ea_a8e4_3c95095f8587row4_col0\" class=\"data row4 col0\" >5402</td>\n",
       "            </tr>\n",
       "            <tr>\n",
       "                        <th id=\"T_f2583d5c_a40d_11ea_a8e4_3c95095f8587level0_row5\" class=\"row_heading level0 row5\" >nissan</th>\n",
       "                        <td id=\"T_f2583d5c_a40d_11ea_a8e4_3c95095f8587row5_col0\" class=\"data row5 col0\" >4743</td>\n",
       "            </tr>\n",
       "            <tr>\n",
       "                        <th id=\"T_f2583d5c_a40d_11ea_a8e4_3c95095f8587level0_row6\" class=\"row_heading level0 row6\" >seat</th>\n",
       "                        <td id=\"T_f2583d5c_a40d_11ea_a8e4_3c95095f8587row6_col0\" class=\"data row6 col0\" >4397</td>\n",
       "            </tr>\n",
       "            <tr>\n",
       "                        <th id=\"T_f2583d5c_a40d_11ea_a8e4_3c95095f8587level0_row7\" class=\"row_heading level0 row7\" >mazda</th>\n",
       "                        <td id=\"T_f2583d5c_a40d_11ea_a8e4_3c95095f8587row7_col0\" class=\"data row7 col0\" >4112</td>\n",
       "            </tr>\n",
       "            <tr>\n",
       "                        <th id=\"T_f2583d5c_a40d_11ea_a8e4_3c95095f8587level0_row8\" class=\"row_heading level0 row8\" >citroen</th>\n",
       "                        <td id=\"T_f2583d5c_a40d_11ea_a8e4_3c95095f8587row8_col0\" class=\"data row8 col0\" >3779</td>\n",
       "            </tr>\n",
       "            <tr>\n",
       "                        <th id=\"T_f2583d5c_a40d_11ea_a8e4_3c95095f8587level0_row9\" class=\"row_heading level0 row9\" >ford</th>\n",
       "                        <td id=\"T_f2583d5c_a40d_11ea_a8e4_3c95095f8587row9_col0\" class=\"data row9 col0\" >3749</td>\n",
       "            </tr>\n",
       "            <tr>\n",
       "                        <th id=\"T_f2583d5c_a40d_11ea_a8e4_3c95095f8587level0_row10\" class=\"row_heading level0 row10\" >smart</th>\n",
       "                        <td id=\"T_f2583d5c_a40d_11ea_a8e4_3c95095f8587row10_col0\" class=\"data row10 col0\" >3580</td>\n",
       "            </tr>\n",
       "            <tr>\n",
       "                        <th id=\"T_f2583d5c_a40d_11ea_a8e4_3c95095f8587level0_row11\" class=\"row_heading level0 row11\" >peugeot</th>\n",
       "                        <td id=\"T_f2583d5c_a40d_11ea_a8e4_3c95095f8587row11_col0\" class=\"data row11 col0\" >3094</td>\n",
       "            </tr>\n",
       "            <tr>\n",
       "                        <th id=\"T_f2583d5c_a40d_11ea_a8e4_3c95095f8587level0_row12\" class=\"row_heading level0 row12\" >opel</th>\n",
       "                        <td id=\"T_f2583d5c_a40d_11ea_a8e4_3c95095f8587row12_col0\" class=\"data row12 col0\" >2975</td>\n",
       "            </tr>\n",
       "            <tr>\n",
       "                        <th id=\"T_f2583d5c_a40d_11ea_a8e4_3c95095f8587level0_row13\" class=\"row_heading level0 row13\" >fiat</th>\n",
       "                        <td id=\"T_f2583d5c_a40d_11ea_a8e4_3c95095f8587row13_col0\" class=\"data row13 col0\" >2813</td>\n",
       "            </tr>\n",
       "            <tr>\n",
       "                        <th id=\"T_f2583d5c_a40d_11ea_a8e4_3c95095f8587level0_row14\" class=\"row_heading level0 row14\" >renault</th>\n",
       "                        <td id=\"T_f2583d5c_a40d_11ea_a8e4_3c95095f8587row14_col0\" class=\"data row14 col0\" >2474</td>\n",
       "            </tr>\n",
       "    </tbody></table>"
      ],
      "text/plain": [
       "<pandas.io.formats.style.Styler at 0x7f0eba450128>"
      ]
     },
     "execution_count": 21,
     "metadata": {},
     "output_type": "execute_result"
    }
   ],
   "source": [
    "avgBrandPrices = pd.Series(brandPriceData)\n",
    "df = pd.DataFrame(avgBrandPrices, columns=['Mean Price']).sort_values(by=['Mean Price'],ascending=False)\n",
    "df.style.background_gradient(cmap=cm)"
   ]
  },
  {
   "cell_type": "markdown",
   "metadata": {},
   "source": [
    "Основываясь на нашем анализе, можно сделать вывод, что немецкие марки роскошных автомобилей, такие как Audi, Mercedes Benz и BMW, как правило, имеют самую высокую цену на eBay в период ползания. Это имеет смысл, поскольку роскошные автомобили дороже, чем стандартные коммерческие марки, такие как Mazda или Ford.\n"
   ]
  },
  {
   "cell_type": "markdown",
   "metadata": {},
   "source": [
    "## Изучение брендов по пробегу\n",
    "Рассмотрим средний пробег тех же 15 самых популярных марок. Это позволит легко сравнивать среднюю цену и средний пробег автомобилей различных марок."
   ]
  },
  {
   "cell_type": "code",
   "execution_count": 22,
   "metadata": {},
   "outputs": [],
   "source": [
    "brandMileData = {}\n",
    "for b in popBrands:\n",
    "    brandMiles = autos.loc[autos['brand'] == b,'odometer_km']\n",
    "    brandMileData[b] = int(brandMiles.mean())"
   ]
  },
  {
   "cell_type": "code",
   "execution_count": 23,
   "metadata": {},
   "outputs": [
    {
     "data": {
      "text/html": [
       "<style  type=\"text/css\" >\n",
       "    #T_f2583d5d_a40d_11ea_a8e4_3c95095f8587row0_col0 {\n",
       "            background-color:  #ffc0cb;\n",
       "            color:  #000000;\n",
       "        }    #T_f2583d5d_a40d_11ea_a8e4_3c95095f8587row0_col1 {\n",
       "            background-color:  #ffc4ce;\n",
       "            color:  #000000;\n",
       "        }    #T_f2583d5d_a40d_11ea_a8e4_3c95095f8587row1_col0 {\n",
       "            background-color:  #ffc4ce;\n",
       "            color:  #000000;\n",
       "        }    #T_f2583d5d_a40d_11ea_a8e4_3c95095f8587row1_col1 {\n",
       "            background-color:  #ffc2cd;\n",
       "            color:  #000000;\n",
       "        }    #T_f2583d5d_a40d_11ea_a8e4_3c95095f8587row2_col0 {\n",
       "            background-color:  #ffc5cf;\n",
       "            color:  #000000;\n",
       "        }    #T_f2583d5d_a40d_11ea_a8e4_3c95095f8587row2_col1 {\n",
       "            background-color:  #ffc0cb;\n",
       "            color:  #000000;\n",
       "        }    #T_f2583d5d_a40d_11ea_a8e4_3c95095f8587row3_col0 {\n",
       "            background-color:  #ffd0d8;\n",
       "            color:  #000000;\n",
       "        }    #T_f2583d5d_a40d_11ea_a8e4_3c95095f8587row3_col1 {\n",
       "            background-color:  #ffd9df;\n",
       "            color:  #000000;\n",
       "        }    #T_f2583d5d_a40d_11ea_a8e4_3c95095f8587row4_col0 {\n",
       "            background-color:  #ffd5dd;\n",
       "            color:  #000000;\n",
       "        }    #T_f2583d5d_a40d_11ea_a8e4_3c95095f8587row4_col1 {\n",
       "            background-color:  #ffc4cf;\n",
       "            color:  #000000;\n",
       "        }    #T_f2583d5d_a40d_11ea_a8e4_3c95095f8587row5_col0 {\n",
       "            background-color:  #ffd9e0;\n",
       "            color:  #000000;\n",
       "        }    #T_f2583d5d_a40d_11ea_a8e4_3c95095f8587row5_col1 {\n",
       "            background-color:  #ffd0d8;\n",
       "            color:  #000000;\n",
       "        }    #T_f2583d5d_a40d_11ea_a8e4_3c95095f8587row6_col0 {\n",
       "            background-color:  #ffdbe1;\n",
       "            color:  #000000;\n",
       "        }    #T_f2583d5d_a40d_11ea_a8e4_3c95095f8587row6_col1 {\n",
       "            background-color:  #ffcdd6;\n",
       "            color:  #000000;\n",
       "        }    #T_f2583d5d_a40d_11ea_a8e4_3c95095f8587row7_col0 {\n",
       "            background-color:  #ffdde3;\n",
       "            color:  #000000;\n",
       "        }    #T_f2583d5d_a40d_11ea_a8e4_3c95095f8587row7_col1 {\n",
       "            background-color:  #ffc9d3;\n",
       "            color:  #000000;\n",
       "        }    #T_f2583d5d_a40d_11ea_a8e4_3c95095f8587row8_col0 {\n",
       "            background-color:  #ffdee4;\n",
       "            color:  #000000;\n",
       "        }    #T_f2583d5d_a40d_11ea_a8e4_3c95095f8587row8_col1 {\n",
       "            background-color:  #ffcfd7;\n",
       "            color:  #000000;\n",
       "        }    #T_f2583d5d_a40d_11ea_a8e4_3c95095f8587row9_col0 {\n",
       "            background-color:  #ffdfe4;\n",
       "            color:  #000000;\n",
       "        }    #T_f2583d5d_a40d_11ea_a8e4_3c95095f8587row9_col1 {\n",
       "            background-color:  #ffc9d3;\n",
       "            color:  #000000;\n",
       "        }    #T_f2583d5d_a40d_11ea_a8e4_3c95095f8587row10_col0 {\n",
       "            background-color:  #ffdfe5;\n",
       "            color:  #000000;\n",
       "        }    #T_f2583d5d_a40d_11ea_a8e4_3c95095f8587row10_col1 {\n",
       "            background-color:  #ffe5ea;\n",
       "            color:  #000000;\n",
       "        }    #T_f2583d5d_a40d_11ea_a8e4_3c95095f8587row11_col0 {\n",
       "            background-color:  #ffe2e7;\n",
       "            color:  #000000;\n",
       "        }    #T_f2583d5d_a40d_11ea_a8e4_3c95095f8587row11_col1 {\n",
       "            background-color:  #ffc6d0;\n",
       "            color:  #000000;\n",
       "        }    #T_f2583d5d_a40d_11ea_a8e4_3c95095f8587row12_col0 {\n",
       "            background-color:  #ffe3e8;\n",
       "            color:  #000000;\n",
       "        }    #T_f2583d5d_a40d_11ea_a8e4_3c95095f8587row12_col1 {\n",
       "            background-color:  #ffc4ce;\n",
       "            color:  #000000;\n",
       "        }    #T_f2583d5d_a40d_11ea_a8e4_3c95095f8587row13_col0 {\n",
       "            background-color:  #ffe4e8;\n",
       "            color:  #000000;\n",
       "        }    #T_f2583d5d_a40d_11ea_a8e4_3c95095f8587row13_col1 {\n",
       "            background-color:  #ffd1d9;\n",
       "            color:  #000000;\n",
       "        }    #T_f2583d5d_a40d_11ea_a8e4_3c95095f8587row14_col0 {\n",
       "            background-color:  #ffe5ea;\n",
       "            color:  #000000;\n",
       "        }    #T_f2583d5d_a40d_11ea_a8e4_3c95095f8587row14_col1 {\n",
       "            background-color:  #ffc5cf;\n",
       "            color:  #000000;\n",
       "        }</style><table id=\"T_f2583d5d_a40d_11ea_a8e4_3c95095f8587\" ><thead>    <tr>        <th class=\"blank level0\" ></th>        <th class=\"col_heading level0 col0\" >Mean Price</th>        <th class=\"col_heading level0 col1\" >Mean Mileage</th>    </tr></thead><tbody>\n",
       "                <tr>\n",
       "                        <th id=\"T_f2583d5d_a40d_11ea_a8e4_3c95095f8587level0_row0\" class=\"row_heading level0 row0\" >audi</th>\n",
       "                        <td id=\"T_f2583d5d_a40d_11ea_a8e4_3c95095f8587row0_col0\" class=\"data row0 col0\" >9336</td>\n",
       "                        <td id=\"T_f2583d5d_a40d_11ea_a8e4_3c95095f8587row0_col1\" class=\"data row0 col1\" >129157</td>\n",
       "            </tr>\n",
       "            <tr>\n",
       "                        <th id=\"T_f2583d5d_a40d_11ea_a8e4_3c95095f8587level0_row1\" class=\"row_heading level0 row1\" >mercedes_benz</th>\n",
       "                        <td id=\"T_f2583d5d_a40d_11ea_a8e4_3c95095f8587row1_col0\" class=\"data row1 col0\" >8628</td>\n",
       "                        <td id=\"T_f2583d5d_a40d_11ea_a8e4_3c95095f8587row1_col1\" class=\"data row1 col1\" >130788</td>\n",
       "            </tr>\n",
       "            <tr>\n",
       "                        <th id=\"T_f2583d5d_a40d_11ea_a8e4_3c95095f8587level0_row2\" class=\"row_heading level0 row2\" >bmw</th>\n",
       "                        <td id=\"T_f2583d5d_a40d_11ea_a8e4_3c95095f8587row2_col0\" class=\"data row2 col0\" >8332</td>\n",
       "                        <td id=\"T_f2583d5d_a40d_11ea_a8e4_3c95095f8587row2_col1\" class=\"data row2 col1\" >132572</td>\n",
       "            </tr>\n",
       "            <tr>\n",
       "                        <th id=\"T_f2583d5d_a40d_11ea_a8e4_3c95095f8587level0_row3\" class=\"row_heading level0 row3\" >skoda</th>\n",
       "                        <td id=\"T_f2583d5d_a40d_11ea_a8e4_3c95095f8587row3_col0\" class=\"data row3 col0\" >6368</td>\n",
       "                        <td id=\"T_f2583d5d_a40d_11ea_a8e4_3c95095f8587row3_col1\" class=\"data row3 col1\" >110848</td>\n",
       "            </tr>\n",
       "            <tr>\n",
       "                        <th id=\"T_f2583d5d_a40d_11ea_a8e4_3c95095f8587level0_row4\" class=\"row_heading level0 row4\" >volkswagen</th>\n",
       "                        <td id=\"T_f2583d5d_a40d_11ea_a8e4_3c95095f8587row4_col0\" class=\"data row4 col0\" >5402</td>\n",
       "                        <td id=\"T_f2583d5d_a40d_11ea_a8e4_3c95095f8587row4_col1\" class=\"data row4 col1\" >128707</td>\n",
       "            </tr>\n",
       "            <tr>\n",
       "                        <th id=\"T_f2583d5d_a40d_11ea_a8e4_3c95095f8587level0_row5\" class=\"row_heading level0 row5\" >nissan</th>\n",
       "                        <td id=\"T_f2583d5d_a40d_11ea_a8e4_3c95095f8587row5_col0\" class=\"data row5 col0\" >4743</td>\n",
       "                        <td id=\"T_f2583d5d_a40d_11ea_a8e4_3c95095f8587row5_col1\" class=\"data row5 col1\" >118330</td>\n",
       "            </tr>\n",
       "            <tr>\n",
       "                        <th id=\"T_f2583d5d_a40d_11ea_a8e4_3c95095f8587level0_row6\" class=\"row_heading level0 row6\" >seat</th>\n",
       "                        <td id=\"T_f2583d5d_a40d_11ea_a8e4_3c95095f8587row6_col0\" class=\"data row6 col0\" >4397</td>\n",
       "                        <td id=\"T_f2583d5d_a40d_11ea_a8e4_3c95095f8587row6_col1\" class=\"data row6 col1\" >121131</td>\n",
       "            </tr>\n",
       "            <tr>\n",
       "                        <th id=\"T_f2583d5d_a40d_11ea_a8e4_3c95095f8587level0_row7\" class=\"row_heading level0 row7\" >mazda</th>\n",
       "                        <td id=\"T_f2583d5d_a40d_11ea_a8e4_3c95095f8587row7_col0\" class=\"data row7 col0\" >4112</td>\n",
       "                        <td id=\"T_f2583d5d_a40d_11ea_a8e4_3c95095f8587row7_col1\" class=\"data row7 col1\" >124464</td>\n",
       "            </tr>\n",
       "            <tr>\n",
       "                        <th id=\"T_f2583d5d_a40d_11ea_a8e4_3c95095f8587level0_row8\" class=\"row_heading level0 row8\" >citroen</th>\n",
       "                        <td id=\"T_f2583d5d_a40d_11ea_a8e4_3c95095f8587row8_col0\" class=\"data row8 col0\" >3779</td>\n",
       "                        <td id=\"T_f2583d5d_a40d_11ea_a8e4_3c95095f8587row8_col1\" class=\"data row8 col1\" >119694</td>\n",
       "            </tr>\n",
       "            <tr>\n",
       "                        <th id=\"T_f2583d5d_a40d_11ea_a8e4_3c95095f8587level0_row9\" class=\"row_heading level0 row9\" >ford</th>\n",
       "                        <td id=\"T_f2583d5d_a40d_11ea_a8e4_3c95095f8587row9_col0\" class=\"data row9 col0\" >3749</td>\n",
       "                        <td id=\"T_f2583d5d_a40d_11ea_a8e4_3c95095f8587row9_col1\" class=\"data row9 col1\" >124266</td>\n",
       "            </tr>\n",
       "            <tr>\n",
       "                        <th id=\"T_f2583d5d_a40d_11ea_a8e4_3c95095f8587level0_row10\" class=\"row_heading level0 row10\" >smart</th>\n",
       "                        <td id=\"T_f2583d5d_a40d_11ea_a8e4_3c95095f8587row10_col0\" class=\"data row10 col0\" >3580</td>\n",
       "                        <td id=\"T_f2583d5d_a40d_11ea_a8e4_3c95095f8587row10_col1\" class=\"data row10 col1\" >99326</td>\n",
       "            </tr>\n",
       "            <tr>\n",
       "                        <th id=\"T_f2583d5d_a40d_11ea_a8e4_3c95095f8587level0_row11\" class=\"row_heading level0 row11\" >peugeot</th>\n",
       "                        <td id=\"T_f2583d5d_a40d_11ea_a8e4_3c95095f8587row11_col0\" class=\"data row11 col0\" >3094</td>\n",
       "                        <td id=\"T_f2583d5d_a40d_11ea_a8e4_3c95095f8587row11_col1\" class=\"data row11 col1\" >127153</td>\n",
       "            </tr>\n",
       "            <tr>\n",
       "                        <th id=\"T_f2583d5d_a40d_11ea_a8e4_3c95095f8587level0_row12\" class=\"row_heading level0 row12\" >opel</th>\n",
       "                        <td id=\"T_f2583d5d_a40d_11ea_a8e4_3c95095f8587row12_col0\" class=\"data row12 col0\" >2975</td>\n",
       "                        <td id=\"T_f2583d5d_a40d_11ea_a8e4_3c95095f8587row12_col1\" class=\"data row12 col1\" >129310</td>\n",
       "            </tr>\n",
       "            <tr>\n",
       "                        <th id=\"T_f2583d5d_a40d_11ea_a8e4_3c95095f8587level0_row13\" class=\"row_heading level0 row13\" >fiat</th>\n",
       "                        <td id=\"T_f2583d5d_a40d_11ea_a8e4_3c95095f8587row13_col0\" class=\"data row13 col0\" >2813</td>\n",
       "                        <td id=\"T_f2583d5d_a40d_11ea_a8e4_3c95095f8587row13_col1\" class=\"data row13 col1\" >117121</td>\n",
       "            </tr>\n",
       "            <tr>\n",
       "                        <th id=\"T_f2583d5d_a40d_11ea_a8e4_3c95095f8587level0_row14\" class=\"row_heading level0 row14\" >renault</th>\n",
       "                        <td id=\"T_f2583d5d_a40d_11ea_a8e4_3c95095f8587row14_col0\" class=\"data row14 col0\" >2474</td>\n",
       "                        <td id=\"T_f2583d5d_a40d_11ea_a8e4_3c95095f8587row14_col1\" class=\"data row14 col1\" >128071</td>\n",
       "            </tr>\n",
       "    </tbody></table>"
      ],
      "text/plain": [
       "<pandas.io.formats.style.Styler at 0x7f0eb914a588>"
      ]
     },
     "execution_count": 23,
     "metadata": {},
     "output_type": "execute_result"
    }
   ],
   "source": [
    "brandMileData_series = pd.Series(brandMileData)\n",
    "df['Mean Mileage'] = brandMileData_series\n",
    "df.style.background_gradient(cmap=cm)"
   ]
  },
  {
   "cell_type": "markdown",
   "metadata": {},
   "source": [
    "Исходя из стандартных отклонений, пробег бренда варьируется гораздо больше, чем данные о ценах по маркам. Более дорогие автомобили, по-видимому, имеют несколько более высокий пробег по сравнению с более дешевыми автомобилями. Это может быть связано с тем, что владельцы автомобилей лучше заботятся о своих роскошных автомобилях, или с тем, что роскошные автомобили изготавливаются с более качественными компонентами, что продлевает срок службы автомобиля.\n"
   ]
  },
  {
   "cell_type": "code",
   "execution_count": 24,
   "metadata": {},
   "outputs": [
    {
     "data": {
      "image/png": "[encoded data removed]",
      "text/plain": [
       "<Figure size 720x504 with 2 Axes>"
      ]
     },
     "metadata": {},
     "output_type": "display_data"
    }
   ],
   "source": [
    "import matplotlib.pyplot as plt\n",
    "import matplotlib.style as style\n",
    "%matplotlib inline\n",
    "style.use('fivethirtyeight')\n",
    "\n",
    "ax = df.plot(kind= 'bar', secondary_y= 'Mean Price', rot= 80, figsize=(10,7), ylim=(90000, 140000), mark_right=False)\n",
    "ax.set_ylabel('Mean Mileage (km)')\n",
    "ax.right_ax.set_ylabel('Mean Price ($)')\n",
    "ax.set_title('eBay Car Listings')\n",
    "plt.show()"
   ]
  },
  {
   "cell_type": "code",
   "execution_count": 25,
   "metadata": {},
   "outputs": [
    {
     "data": {
      "text/html": [
       "<div>\n",
       "<style scoped>\n",
       "    .dataframe tbody tr th:only-of-type {\n",
       "        vertical-align: middle;\n",
       "    }\n",
       "\n",
       "    .dataframe tbody tr th {\n",
       "        vertical-align: top;\n",
       "    }\n",
       "\n",
       "    .dataframe thead th {\n",
       "        text-align: right;\n",
       "    }\n",
       "</style>\n",
       "<table border=\"1\" class=\"dataframe\">\n",
       "  <thead>\n",
       "    <tr style=\"text-align: right;\">\n",
       "      <th></th>\n",
       "      <th>Mean Price</th>\n",
       "      <th>Mean Mileage</th>\n",
       "    </tr>\n",
       "  </thead>\n",
       "  <tbody>\n",
       "    <tr>\n",
       "      <th>Mean Price</th>\n",
       "      <td>1.000000</td>\n",
       "      <td>-0.966777</td>\n",
       "    </tr>\n",
       "    <tr>\n",
       "      <th>Mean Mileage</th>\n",
       "      <td>-0.966777</td>\n",
       "      <td>1.000000</td>\n",
       "    </tr>\n",
       "  </tbody>\n",
       "</table>\n",
       "</div>"
      ],
      "text/plain": [
       "              Mean Price  Mean Mileage\n",
       "Mean Price      1.000000     -0.966777\n",
       "Mean Mileage   -0.966777      1.000000"
      ]
     },
     "execution_count": 25,
     "metadata": {},
     "output_type": "execute_result"
    }
   ],
   "source": [
    "# Корреляция Пирсона между mean price & mean mileage - Luxury German Cars\n",
    "df.loc[['audi','mercedes_benz','bmw'], :].corr()"
   ]
  },
  {
   "cell_type": "code",
   "execution_count": 26,
   "metadata": {},
   "outputs": [
    {
     "data": {
      "text/html": [
       "<div>\n",
       "<style scoped>\n",
       "    .dataframe tbody tr th:only-of-type {\n",
       "        vertical-align: middle;\n",
       "    }\n",
       "\n",
       "    .dataframe tbody tr th {\n",
       "        vertical-align: top;\n",
       "    }\n",
       "\n",
       "    .dataframe thead th {\n",
       "        text-align: right;\n",
       "    }\n",
       "</style>\n",
       "<table border=\"1\" class=\"dataframe\">\n",
       "  <thead>\n",
       "    <tr style=\"text-align: right;\">\n",
       "      <th></th>\n",
       "      <th>Mean Price</th>\n",
       "      <th>Mean Mileage</th>\n",
       "    </tr>\n",
       "  </thead>\n",
       "  <tbody>\n",
       "    <tr>\n",
       "      <th>Mean Price</th>\n",
       "      <td>1.000000</td>\n",
       "      <td>-0.244942</td>\n",
       "    </tr>\n",
       "    <tr>\n",
       "      <th>Mean Mileage</th>\n",
       "      <td>-0.244942</td>\n",
       "      <td>1.000000</td>\n",
       "    </tr>\n",
       "  </tbody>\n",
       "</table>\n",
       "</div>"
      ],
      "text/plain": [
       "              Mean Price  Mean Mileage\n",
       "Mean Price      1.000000     -0.244942\n",
       "Mean Mileage   -0.244942      1.000000"
      ]
     },
     "execution_count": 26,
     "metadata": {},
     "output_type": "execute_result"
    }
   ],
   "source": [
    "# Корреляция Пирсона между mean price & mean mileage - Non-Luxury Cars\n",
    "df.iloc[3:, :].corr()"
   ]
  },
  {
   "cell_type": "markdown",
   "metadata": {},
   "source": [
    "Учитывая только самые дорогие немецкие марки автомобилей (Audi, Mercedes Benz, BMW), кажется, что их перечисленные значения уменьшаются по отношению к более высоким пробегам. Это согласуется с интуицией, поскольку аналогичный автомобиль с более высоким пробегом будет означать, что автомобиль использовался больше, что приведет к более низкой цене листинга. Эта обратная корреляция подтверждается большим отрицательным коэффициентом Пирсона (Р = -0,97).\n",
    "\n",
    "Остальные автомобили в списке не имеют четкой тенденции в отношении их указанной цены и пробега. Коэффициент Пирсона (p = -0.24) предполагает очень слабую отрицательную корреляцию между ценой и пробегом. Это отсутствие корреляции может быть связано с тем, что продавцы имеют разные мнения об относительной стоимости различных марок автомобилей не класса люкс. Кроме того, другие факторы, кроме пробега, вероятно, оказывают влияние на ценообразование автомобилей."
   ]
  },
  {
   "cell_type": "markdown",
   "metadata": {},
   "source": [
    "Направление, выбранное для исследования, представляло собой анализ средней цены и среднего пробега 15 самых популярных марок автомобилей в наборе данных. Было установлено,что немецкие марки роскошных автомобилей, как правило, имеют самую высокую цену, причем их цены снижаются с увеличением пробега. Остальные не роскошные, популярные марки автомобилей не демонстрировали никакой определенной тенденции в отношении корреляции между ценой и пробегом в одиночку."
   ]
  }
 ],
 "metadata": {
  "kernelspec": {
   "display_name": "Python 3",
   "language": "python",
   "name": "python3"
  },
  "language_info": {
   "codemirror_mode": {
    "name": "ipython",
    "version": 3
   },
   "file_extension": ".py",
   "mimetype": "text/x-python",
   "name": "python",
   "nbconvert_exporter": "python",
   "pygments_lexer": "ipython3",
   "version": "3.6.9"
  }
 },
 "nbformat": 4,
 "nbformat_minor": 4
}
