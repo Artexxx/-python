{
 "cells": [
  {
   "cell_type": "markdown",
   "metadata": {},
   "source": [
    "# [Подборка индикаторов и их недостатков](https://forexlab-ru.turbopages.org/s/forexlab.ru/indicator-on-balance-volume/)"
   ]
  },
  {
   "cell_type": "code",
   "execution_count": 229,
   "metadata": {},
   "outputs": [
    {
     "data": {
      "text/html": [
       "        <script type=\"text/javascript\">\n",
       "        window.PlotlyConfig = {MathJaxConfig: 'local'};\n",
       "        if (window.MathJax) {MathJax.Hub.Config({SVG: {font: \"STIX-Web\"}});}\n",
       "        if (typeof require !== 'undefined') {\n",
       "        require.undef(\"plotly\");\n",
       "        requirejs.config({\n",
       "            paths: {\n",
       "                'plotly': ['https://cdn.plot.ly/plotly-latest.min']\n",
       "            }\n",
       "        });\n",
       "        require(['plotly'], function(Plotly) {\n",
       "            window._Plotly = Plotly;\n",
       "        });\n",
       "        }\n",
       "        </script>\n",
       "        "
      ]
     },
     "metadata": {},
     "output_type": "display_data"
    },
    {
     "data": {
      "text/html": [
       "<div>\n",
       "<style scoped>\n",
       "    .dataframe tbody tr th:only-of-type {\n",
       "        vertical-align: middle;\n",
       "    }\n",
       "\n",
       "    .dataframe tbody tr th {\n",
       "        vertical-align: top;\n",
       "    }\n",
       "\n",
       "    .dataframe thead th {\n",
       "        text-align: right;\n",
       "    }\n",
       "</style>\n",
       "<table border=\"1\" class=\"dataframe\">\n",
       "  <thead>\n",
       "    <tr style=\"text-align: right;\">\n",
       "      <th></th>\n",
       "      <th>Date</th>\n",
       "      <th>Open</th>\n",
       "      <th>High</th>\n",
       "      <th>Low</th>\n",
       "      <th>Close</th>\n",
       "      <th>Volume</th>\n",
       "      <th>OpenInt</th>\n",
       "      <th>Close_diff</th>\n",
       "    </tr>\n",
       "  </thead>\n",
       "  <tbody>\n",
       "    <tr>\n",
       "      <th>0</th>\n",
       "      <td>2005-02-25</td>\n",
       "      <td>104.77</td>\n",
       "      <td>106.00</td>\n",
       "      <td>104.68</td>\n",
       "      <td>105.79</td>\n",
       "      <td>70221808</td>\n",
       "      <td>0</td>\n",
       "      <td>NaN</td>\n",
       "    </tr>\n",
       "    <tr>\n",
       "      <th>1</th>\n",
       "      <td>2005-02-28</td>\n",
       "      <td>105.55</td>\n",
       "      <td>105.68</td>\n",
       "      <td>104.56</td>\n",
       "      <td>105.08</td>\n",
       "      <td>79695344</td>\n",
       "      <td>0</td>\n",
       "      <td>-0.71</td>\n",
       "    </tr>\n",
       "    <tr>\n",
       "      <th>2</th>\n",
       "      <td>2005-03-01</td>\n",
       "      <td>105.22</td>\n",
       "      <td>105.87</td>\n",
       "      <td>105.22</td>\n",
       "      <td>105.62</td>\n",
       "      <td>54607412</td>\n",
       "      <td>0</td>\n",
       "      <td>0.54</td>\n",
       "    </tr>\n",
       "    <tr>\n",
       "      <th>3</th>\n",
       "      <td>2005-03-02</td>\n",
       "      <td>105.21</td>\n",
       "      <td>106.22</td>\n",
       "      <td>105.10</td>\n",
       "      <td>105.57</td>\n",
       "      <td>73733090</td>\n",
       "      <td>0</td>\n",
       "      <td>-0.05</td>\n",
       "    </tr>\n",
       "    <tr>\n",
       "      <th>4</th>\n",
       "      <td>2005-03-03</td>\n",
       "      <td>105.99</td>\n",
       "      <td>106.20</td>\n",
       "      <td>105.15</td>\n",
       "      <td>105.61</td>\n",
       "      <td>71286823</td>\n",
       "      <td>0</td>\n",
       "      <td>0.04</td>\n",
       "    </tr>\n",
       "  </tbody>\n",
       "</table>\n",
       "</div>"
      ],
      "text/plain": [
       "         Date    Open    High     Low   Close    Volume  OpenInt  Close_diff\n",
       "0  2005-02-25  104.77  106.00  104.68  105.79  70221808        0         NaN\n",
       "1  2005-02-28  105.55  105.68  104.56  105.08  79695344        0       -0.71\n",
       "2  2005-03-01  105.22  105.87  105.22  105.62  54607412        0        0.54\n",
       "3  2005-03-02  105.21  106.22  105.10  105.57  73733090        0       -0.05\n",
       "4  2005-03-03  105.99  106.20  105.15  105.61  71286823        0        0.04"
      ]
     },
     "execution_count": 229,
     "metadata": {},
     "output_type": "execute_result"
    }
   ],
   "source": [
    "import pandas as pd\n",
    "import numpy as np\n",
    "import seaborn as sns\n",
    "\n",
    "import plotly as py\n",
    "import plotly.io as pio\n",
    "import plotly.graph_objs as go\n",
    "from plotly.subplots import make_subplots\n",
    "\n",
    "from plotly.offline import init_notebook_mode\n",
    "# Show charts when running kernel\n",
    "init_notebook_mode(connected=True)\n",
    "\n",
    "df = pd.read_csv('spy.us.txt')\n",
    "df['Close_diff']=df['Close'].diff()\n",
    "df.head()"
   ]
  },
  {
   "cell_type": "markdown",
   "metadata": {},
   "source": [
    "# 1. RSI\n",
    "# $ \\frac{Avg(PriceUp)}{Avg(PriceUP)+Avg(PriceDown)}*100 $\n",
    "###  PriceUp(t) = $ Price(t)-Price(t-1)$ `price > 0` \n",
    "\n",
    "###  PriceDown(t) = $ abs((Price(t)-Price(t-1)))$`price < 0`\n"
   ]
  },
  {
   "cell_type": "code",
   "execution_count": 230,
   "metadata": {},
   "outputs": [],
   "source": [
    "def RSI(df, n=14):\n",
    "    delta = df['Close_diff']\n",
    "    pricesUp   = delta.copy()\n",
    "    pricesDown = delta.copy()\n",
    "    \n",
    "    pricesUp[pricesUp < 0] = 0\n",
    "    pricesDown[pricesDown > 0] = 0\n",
    "    \n",
    "    rollUp   = pricesUp.rolling(n).mean()\n",
    "    rollDown = -1*pricesDown.rolling(n).mean()\n",
    "    rsi = 100 * rollUp / (rollUp + rollDown)\n",
    "    return rsi"
   ]
  },
  {
   "cell_type": "code",
   "execution_count": 231,
   "metadata": {},
   "outputs": [],
   "source": [
    "df['RSI_14D'] = RSI(df).fillna(0)"
   ]
  },
  {
   "cell_type": "markdown",
   "metadata": {},
   "source": [
    "# 2. Bollinger Bands\n",
    "1. Средняя линия ***Avg*** *(обычное скользящее среднее)* \n",
    "2. Верхняя линия ***TL*** (средняя линия ***Avg***, смещенная вверх на определенное число ***D*** стандартных отклонений Std)\n",
    "3. Нижняя линия ***BL*** (средняя линия ***Avg***, смещенная вниз на число стандартных ***D*** отклонений Std)\n",
    "### $TL|BL = Avg_{30} ± (D * Std_{30})$\n",
    "\n",
    "[Std](https://youtu.be/GqMOty05n44) – стандартное отклонение рассчитывается как:\n",
    "\n",
    "   ### $Std = \\sqrt{\\frac{\\sum(Price_i — Avg_{30})^{2}}  {N}}$\n"
   ]
  },
  {
   "cell_type": "code",
   "execution_count": 232,
   "metadata": {},
   "outputs": [],
   "source": [
    "def bbands(df, length=30, numsd=2):\n",
    "    \"\"\" returns MA, TL, and BL\"\"\"\n",
    "    close = df['Close']\n",
    "    ave = close.rolling(length).mean()\n",
    "    std  = close.rolling(length).std()\n",
    "    upband = ave + (std * numsd)\n",
    "    dnband = ave - (std * numsd)\n",
    "    return np.round(ave,3), np.round(upband,3), np.round(dnband,3)"
   ]
  },
  {
   "cell_type": "code",
   "execution_count": 233,
   "metadata": {
    "scrolled": false
   },
   "outputs": [],
   "source": [
    "df = df.assign(**dict(zip(\n",
    "                ('BB_Middle_Band', 'BB_Upper_Band', 'BB_Lower_Band'),\n",
    "                bbands(df))))"
   ]
  },
  {
   "cell_type": "markdown",
   "metadata": {},
   "source": [
    "# 3. Aroon Oscillator [AO](https://equity.today/indikator-aroon.html)  \n",
    "### $ AO = AroonUp − AroonDown $\n",
    "### $ AroonUp|Down = 100*\\frac{25-PeriodsSince(High|Low)_{25}}{25} ,\\;25 =\\;количеству\\: периодов$"
   ]
  },
  {
   "cell_type": "code",
   "execution_count": 234,
   "metadata": {},
   "outputs": [],
   "source": [
    "# idx_local_high= количеству дней от начала до локального макс/мин\n",
    "# если макс/мин сегодня, то переменная равна N\n",
    "# если макс/мин первый день, то переменная равна 1 \n",
    "\n",
    "def aroon(df, N=25):\n",
    "    aroonup = []\n",
    "    aroondown = []\n",
    "    x = N\n",
    "    while x<= len(df['Date']):\n",
    "        slice_h =list(df['High'][x-N:x])\n",
    "        slice_l =list(df['Low'][x-N:x])\n",
    "        \n",
    "        idx_local_high = 1 + slice_h.index(max(slice_h))\n",
    "        idx_local_low =  1 + slice_l.index(min(slice_l))\n",
    "        \n",
    "        aroonup.append(idx_local_high/N*100)\n",
    "        aroondown.append(idx_local_low/N*100)\n",
    "        x+=1\n",
    "    return aroonup, aroondown"
   ]
  },
  {
   "cell_type": "code",
   "execution_count": 235,
   "metadata": {
    "scrolled": true
   },
   "outputs": [],
   "source": [
    "listofna = [None] * 24\n",
    "up, down = aroon(df)\n",
    "aroon_list = [x - y for x, y in zip(up,down)]\n",
    "df['Aroon_25D'] = listofna + aroon_list"
   ]
  },
  {
   "cell_type": "markdown",
   "metadata": {},
   "source": [
    "# 4. Price Volume Trend [PVT](https://www.metastock.com/customer/resources/taaz/default.aspx?p=93)\n",
    "### $PVT = [\\frac{CurrentClose - PreviousClose} {PreviousClose} * Volume] + PreviousPVT $"
   ]
  },
  {
   "cell_type": "code",
   "execution_count": 236,
   "metadata": {
    "scrolled": false
   },
   "outputs": [],
   "source": [
    "def pvt(df):\n",
    "    df['PVT']=None\n",
    "    PreviousPVT=0\n",
    "    for stock in range(1,len(df)):\n",
    "        PVT =   df.loc[stock, 'Close_diff'] / df.loc[stock-1, 'Close'] * df.loc[stock, 'Volume']\n",
    "        df.loc[stock, 'PVT'] = PVT + PreviousPVT\n",
    "        PreviousPVT = PVT"
   ]
  },
  {
   "cell_type": "code",
   "execution_count": 237,
   "metadata": {},
   "outputs": [],
   "source": [
    "pvt(df)"
   ]
  },
  {
   "cell_type": "markdown",
   "metadata": {},
   "source": [
    "# 5. Acceleration Bands [AB](https://fx-roboti.ru/acceleration-bands.html)\n",
    "### $Upper Band =SMA(High* ( 1 ±^{?} 4 *\\frac{High - Low}{High + Low})) $\n",
    "### $Middle Band = SMA_{}$\n",
    "### $Lower Band = SMA(Low *\n",
    " (1 - 4 * \\frac{High - Low}{High + Low}))$\n",
    "- SMA =  Simple Moving Average"
   ]
  },
  {
   "cell_type": "code",
   "execution_count": 238,
   "metadata": {},
   "outputs": [],
   "source": [
    "def abands(df):\n",
    "    df['AB_Middle_Band'] = df['Close'].rolling(20).mean()\n",
    "    ab_up  = df['High'] * (1 + 4 * (df['High']-df['Low'])/(df['High']+df['Low']))\n",
    "    ab_down = df['Low'] * (1 - 4 * (df['High']-df['Low'])/(df['High']+df['Low']))\n",
    "\n",
    "    df['AB_Upper_Band'] = ab_up.rolling(20).mean()\n",
    "    df['AB_Lower_Band'] = ab_down.rolling(20).mean()"
   ]
  },
  {
   "cell_type": "code",
   "execution_count": 239,
   "metadata": {},
   "outputs": [],
   "source": [
    "abands(df)"
   ]
  },
  {
   "cell_type": "markdown",
   "metadata": {},
   "source": [
    "# 6. Stochastic Oscillator (%K and %D)\n",
    "тут я вместо $L_{min}$ использовал Avg(L)<br>\n",
    "__смотри 1 часть__"
   ]
  },
  {
   "cell_type": "code",
   "execution_count": 240,
   "metadata": {},
   "outputs": [],
   "source": [
    "def stochastic(df, k=14, d=3):\n",
    "    df['stoch_k'] = ((df['Close'] - df['Low'].rolling(k).mean()) / (df['High'].rolling(k).max() - df['Low'].rolling(k).min())) * 100\n",
    "    df['stoch_d'] = df['stoch_k'].rolling(d).mean()    "
   ]
  },
  {
   "cell_type": "code",
   "execution_count": 241,
   "metadata": {},
   "outputs": [],
   "source": [
    "stochastic(df)"
   ]
  },
  {
   "cell_type": "markdown",
   "metadata": {},
   "source": [
    "# 7. Chaikin Money Flow [CMF](https://www.tradingview.com/wiki/Chaikin_Money_Flow_(CMF)/ru)\n",
    "\n",
    "### - Найдите множитель денежных потоков<br>  $ \\frac{(Close  -  Low) - (High - Close)}{(High - Low)} =  Money Flow Multiplier$ \n",
    "\n",
    "### - Рассчитать объем денежных потоков\n",
    "*Money Flow Multiplier x Volume for the Period* (Объем за период) = Money Flow Volume\n",
    "\n",
    "### - Вычислить CMF\n",
    "Сумма значений  MoneyFlowVolume за весь период / сумме объемов за тот же период\n",
    "\n",
    "`Идеома`: 1. пересечение индикатором нулевой отметки 2. дивергенция"
   ]
  },
  {
   "cell_type": "code",
   "execution_count": 242,
   "metadata": {},
   "outputs": [],
   "source": [
    "def CMFolow(df, n):\n",
    "    PeriodVolume = df['Volume'].rolling(n).sum()\n",
    "    \n",
    "    MF_volume = (2 * df['Close'] - df['High'] - df['Low']) / (df['High'] - df['Low']) * PeriodVolume\n",
    "    Period_MF_volume = MF_volume.rolling(n).sum()\n",
    "    \n",
    "    CMF = Period_MF_volume/PeriodVolume\n",
    "    return CMF\n",
    "\n",
    "df['Chaikin_MF'] = CMFolow(df, 20)"
   ]
  },
  {
   "cell_type": "markdown",
   "metadata": {},
   "source": [
    "# 8. Parabolic [SAR](https://smart-lab.ru/finansoviy-slovar/Индикатор%20Parabolic%20SAR)\n",
    "Uptrend Parabolic SAR = AF*(HIGHT – PreviousSAR) + PreviousSAR \n",
    "\n",
    "Downtrend Parabolic SAR = AF*(LOW – PreviousSAR) – PreviousSAR\n",
    "\n",
    "***SAR*** –  текущее значение ордера на закрытие позиции<br>\n",
    "***SAR'*** – новое значение ордера на закрытие позиции<br>\n",
    "***AF*** –  фактор ускорения, шаг изменения цены закрытия позиции, рекомендуемое значение 0,02   \n",
    "\n",
    "\n",
    "### $AF = 0.2 + i * 0.02$\n",
    "i - число периодов после начала расчета <br>\n",
    "0.02 – шаг изменения цены<br>\n",
    "0.2 – максимум <br> "
   ]
  },
  {
   "cell_type": "code",
   "execution_count": 243,
   "metadata": {},
   "outputs": [],
   "source": [
    "def psar(df, iaf = 0.02, maxaf = 0.2):\n",
    "    \"\"\"\n",
    "    return: psar for all, [psar for bear trend, psar for bull trend]\n",
    "    \"\"\"\n",
    "    length = len(df)\n",
    "    high = df['High']\n",
    "    low  = df['Low']\n",
    "    close= df['Close']\n",
    "    psar = close.copy()\n",
    "    \n",
    "    psarbull = [None] * length\n",
    "    psarbear = [None] * length\n",
    "    bull = True\n",
    "    af = iaf\n",
    "    local_high = high[0]\n",
    "    local_low = low[0]\n",
    "    for i in range(2,length):\n",
    "        # _____________________ определяем формулу и считаем sar'\n",
    "        if bull:\n",
    "            psar[i] = psar[i - 1] + af * (local_high - psar[i - 1])\n",
    "        else:\n",
    "            psar[i] = psar[i - 1] + af * (local_low - psar[i - 1])\n",
    "        \n",
    "        # _____________________ если разворот, то обновить переменные\n",
    "        reverse = False\n",
    "        if bull:\n",
    "            if low[i] < psar[i]:\n",
    "                bull = False\n",
    "                reverse = True\n",
    "                psar[i] = local_high\n",
    "                local_low = low[i]\n",
    "                af = iaf\n",
    "        else:\n",
    "            if high[i] > psar[i]:\n",
    "                bull = True\n",
    "                reverse = True\n",
    "                psar[i] = local_low\n",
    "                local_high = high[i]\n",
    "                af = iaf\n",
    "                \n",
    "        if not reverse:\n",
    "            if bull:\n",
    "                if high[i] > local_high:\n",
    "                    local_high = high[i]\n",
    "                    af = min(af + iaf, maxaf)\n",
    "                if low[i - 1] < psar[i]:\n",
    "                    psar[i] = low[i - 1]\n",
    "                if low[i - 2] < psar[i]:\n",
    "                    psar[i] = low[i - 2]\n",
    "            else:\n",
    "                if low[i] < local_low:\n",
    "                    local_low = low[i]\n",
    "                    af = min(af + iaf, maxaf)\n",
    "                if high[i - 1] > psar[i]:\n",
    "                    psar[i] = high[i - 1]\n",
    "                if high[i - 2] > psar[i]:\n",
    "                    psar[i] = high[i - 2]\n",
    "        if bull:\n",
    "            psarbull[i] = psar[i]\n",
    "        else:\n",
    "            psarbear[i] = psar[i]\n",
    "    return psar, [psarbear, psarbull]"
   ]
  },
  {
   "cell_type": "code",
   "execution_count": 244,
   "metadata": {},
   "outputs": [],
   "source": [
    "df['Parabolic_SAR'] = psar(df)[0]"
   ]
  },
  {
   "cell_type": "markdown",
   "metadata": {},
   "source": [
    "# 9. Price Rate of Change [ROC](https://www.mql5.com/ru/code/46)\n",
    " Осциллятор скорости Изменения Цены <br>Чем больше ценовое изменение, тем сильнее меняется ROC\n",
    "## $ROC = \\frac{CLOSE_i - CLOSE_{i - 25}}{CLOSE_{i - 25}}* 100$"
   ]
  },
  {
   "cell_type": "code",
   "execution_count": 245,
   "metadata": {},
   "outputs": [],
   "source": [
    "def rate_of_change(df, n):\n",
    "    M = df['Close'].diff(n)\n",
    "    N = df['Close'].shift(n)\n",
    "    ROC = M / N * 100\n",
    "    return ROC"
   ]
  },
  {
   "cell_type": "code",
   "execution_count": 246,
   "metadata": {},
   "outputs": [],
   "source": [
    "df['%ROC'] = rate_of_change(df, 25)"
   ]
  },
  {
   "cell_type": "markdown",
   "metadata": {},
   "source": [
    "# 10. Volume Weighted Average Price [VWAP](https://smart-lab.ru/blog/415940.php)\n",
    "используется для измерения средней цены, взвешенной по объёму\n",
    "1. Вычислите Типичную цену за период.$ [(High + Low + Close)/3)]$\n",
    "2. Умножьте Типичную цену на период Объем $(Typical Price * Volume)$\n",
    "3. Создайте совокупную *(кумулятивную)* сумму типичной цены.  $Cumulative(Typical Price x Volume)$\n",
    "4. Создайте совокупное общее количество. Cumulative(Volume)\n",
    "5. Разделите кумулятивные итоги. \n",
    "\n",
    "## $VWAP = \\frac{Cumulative(Typical Price * Volume)}{ Cumulative(Volume)}$"
   ]
  },
  {
   "cell_type": "code",
   "execution_count": 247,
   "metadata": {},
   "outputs": [],
   "source": [
    "df['VWAP'] = np.cumsum(df['Volume'] * (df['High'] + df['Low'])/2) / np.cumsum(df['Volume'])"
   ]
  },
  {
   "cell_type": "markdown",
   "metadata": {},
   "source": [
    "# 11. [Momentum](https://bcs-express.ru/novosti-i-analitika/indikator-skorosti-rynka-momentum)\n",
    "## $MOMENTUM = \\frac{CLOSE_i}{CLOSE_{i - n}} * 100$\n"
   ]
  },
  {
   "cell_type": "code",
   "execution_count": 248,
   "metadata": {},
   "outputs": [],
   "source": [
    "def momentum(df, n):\n",
    "    return df['Close']/df['Close'].shift(n)* 100\n",
    "df['%Momentum']=momentum(df, 4)"
   ]
  },
  {
   "cell_type": "markdown",
   "metadata": {},
   "source": [
    "# 12. Commodity Channel Index [CCI](http://tlap.com/indikator-commody-channel-index/) \n",
    "### $CCI = \\frac{Typical Price – SMA}{0,015*Avg}$\n",
    "Предполагается, что если цена отклоняется от своей скользящей средней на интервал, больший чем обычный для рассматриваемого периода, то происходит изменение тренда"
   ]
  },
  {
   "cell_type": "code",
   "execution_count": 249,
   "metadata": {},
   "outputs": [],
   "source": [
    "def CCI(df, n, constant):\n",
    "    TP = (df['High'] + df['Low'] + df['Close']) / 3\n",
    "    CCI = (TP - TP.rolling(n).mean()) / (constant * TP.rolling(n).std())\n",
    "    return CCI"
   ]
  },
  {
   "cell_type": "code",
   "execution_count": 250,
   "metadata": {},
   "outputs": [],
   "source": [
    "df['CCI'] = CCI(df, 20, 0.015)"
   ]
  },
  {
   "cell_type": "markdown",
   "metadata": {},
   "source": [
    "# 13. On Balance Volume [OBV](http://tlap.com/on-balance-volume/)\n",
    "Суммирует или вычитает объём<br>\n",
    "$\n",
    "\\textit{OBV}_t = \\textit{OBV}_{t-i} + \\left\\{ \\begin{matrix}\n",
    "\\textit{volume}_t  & \\mathrm{if}\\ \\textit{close}_t > \\textit{close}_{t-i} \\\\\n",
    "0       & \\mathrm{if}\\ \\textit{close}_t = \\textit{close}_{t-i} \\\\\n",
    "-\\textit{volume}_t & \\mathrm{if}\\ \\textit{close}_t < \\textit{close}_{t-i}\n",
    "\\end{matrix} \\right.\n",
    "$\n"
   ]
  },
  {
   "cell_type": "code",
   "execution_count": 251,
   "metadata": {},
   "outputs": [],
   "source": [
    "diff = df['Close'].diff()\n",
    "obv = (df['Volume'] * (np.where(diff< 0, -1, 1)*np.where(diff== 0, 0, 1))).cumsum()\n",
    "\n",
    "df['OBV'] = obv"
   ]
  },
  {
   "cell_type": "markdown",
   "metadata": {},
   "source": [
    "# 14. Keltner Channels [KC](https://smart-lab.ru/blog/239825.php)\n",
    "***Канал Кёльтнера*** — индикатор, состоящий из двух полос, построенных вокруг SMA, ширина которых зависит от волатильности рынка.\n",
    "- Тут стандартнвя реализация, без [модификаций](https://ru.wikipedia.org/wiki/Канал_Кельтнера)\n",
    "\n",
    "$ UpLine = SMA_{10}(TypicalPrice) + SMA_{10}(TradingRange))$<br>\n",
    "$ DownLine = SMA_{10}(TypicalPrice)- SMA_{10}(TradingRange))$\n",
    "\n",
    "$TradingRange = High - Low$<br>\n",
    "$TypicalPrice = (High + Low + Close )/3$\n",
    "\n",
    "Считается, что пересечение верхней линии является сигналом к открытию длинной позиции и нижней — короткой"
   ]
  },
  {
   "cell_type": "code",
   "execution_count": 252,
   "metadata": {},
   "outputs": [],
   "source": [
    "def KELCH(df, n):  \n",
    "    TypicalPrice = (df['High'] + df['Low'] + df['Close']) / 3\n",
    "    TradingRange =  df['High'] - df['Low']\n",
    "    \n",
    "    KelChM = TypicalPrice.rolling(n).mean()\n",
    "    KelChU = (TypicalPrice + TradingRange).rolling(n).mean()\n",
    "    KelChD = (TypicalPrice - TradingRange).rolling(n).mean()    \n",
    "    return KelChD, KelChM,  KelChU"
   ]
  },
  {
   "cell_type": "code",
   "execution_count": 253,
   "metadata": {
    "scrolled": true
   },
   "outputs": [],
   "source": [
    "df = df.assign(**dict(zip(\n",
    "                ('Kelch_Down', 'Kelch_Middle', 'Kelch_Upper'),\n",
    "                KELCH(df, 10))))"
   ]
  },
  {
   "cell_type": "markdown",
   "metadata": {},
   "source": [
    "# 15. Triple Exponential Moving Average [TRIX](https://fx-wiki.ru/wiki/Triple_Exponential_Moving_Average(TRIX))\n",
    "является осциллятором перекупленности и перепроданности. Отличается от МА тем, что выдаёт меньше ложных сигналов.\n",
    "###  Различные реализации \n",
    "$TEMA1 =(3∗EMA_1)−(3∗EMA_1*EMA_1)+3∗EMA_1*EMA_1*EMA_1$<br>\n",
    "$TEMA2 =(3∗EMA_1)−(3∗EMA_2)+EMA_3$<br>\n",
    "$TEMA3 =\\frac{(EMA_3(i))−(EMA_3(i-1))}{EMA_3(i-1)}$\n",
    "\n",
    "\n",
    "$EMA_1 = EMA$<br>\n",
    "$EMA_2 = EMAofEMA_1$<br>\n",
    "$EMA_3=EMAofEMA_2$<br>\n"
   ]
  },
  {
   "cell_type": "code",
   "execution_count": 254,
   "metadata": {},
   "outputs": [],
   "source": [
    "def triple_exponential_moving_average_1(df, n=14):\n",
    "    EMA =df['Close'].ewm(span=n).mean()\n",
    "    return (3 * EMA) - (3 * EMA * EMA) + (EMA * EMA * EMA)\n",
    "\n",
    "def triple_exponential_moving_average_2(df, n):\n",
    "    EX1 = df['Close'].ewm(span=n).mean()\n",
    "    EX2 = EX1.ewm(span=n).mean()\n",
    "    EX3 = EX2.ewm(span=n).mean()\n",
    "    return (3 * EX1)  - (3 * EX2) + EX3\n",
    "     \n",
    "            \n",
    "def triple_exponential_moving_average_3(df, n):\n",
    "    EX1 = df['Close'].ewm(span=n).mean()\n",
    "    EX2 = EX1.ewm(span=n).mean()\n",
    "    EX3 = EX2.ewm(span=n).mean()\n",
    "    return (EX3 - EX3.shift(1) )/ EX3.shift(1)"
   ]
  },
  {
   "cell_type": "markdown",
   "metadata": {},
   "source": [
    "# 16. Normalized Average True Range [ATR](http://tlap.com/indikator-atr/)\n",
    "\n",
    "Средний Истинный Диапазон –  индикатор, отражающий волатильность движения актива.<br>\n",
    "Основной смысл индикатора ATR заключается в определении среднего диапазона изменения цены за определенный период времени.\n",
    "                        \n",
    "###  $True Range = max(High_i - Low_i, abs(High_i - Close_{i-1}), abs(Low_i - Close_{i-1}))$\n",
    "\n",
    "$ATR = SMA_{14}(TrueRange)$\n",
    "\n",
    "Normalized Average True Range = ATR / Close * 100"
   ]
  },
  {
   "cell_type": "code",
   "execution_count": 255,
   "metadata": {},
   "outputs": [],
   "source": [
    "def ATR(df, n):\n",
    "    \"\"\":return Normalized ATR, ATR \"\"\"\n",
    "    df = df.copy()\n",
    "    df['tradingRange']= df['High'] - df['Low']\n",
    "    df['absHC'] = abs(df['High'] - df['Close'].shift(1))\n",
    "    df['absLC'] = abs(df['Low'] - df['Close'].shift(1))\n",
    "\n",
    "    trueRange = df[['tradingRange','absHC','absLC']].max(axis=1)\n",
    "    df['ATR'] = trueRange.rolling(14).mean()\n",
    "    return (df['ATR'] / df['Close']) *100,  df['ATR']"
   ]
  },
  {
   "cell_type": "code",
   "execution_count": 256,
   "metadata": {},
   "outputs": [],
   "source": [
    "df['%ATR'],df['ATR'] = ATR(df, 14)"
   ]
  },
  {
   "cell_type": "markdown",
   "metadata": {},
   "source": [
    "# 17. Average Directional Movement Index [ADX](https://smart-lab.ru/finansoviy-slovar/индикатор%20ADX)\n",
    "среднее направленние движения — индикатор для измерения силы тренда\n",
    "хорошо зарекомендовал себя в целях поиска бумаг, которые пребывают в тренде, либо консолидируются\n",
    "<br>подтверждает сигналы, даваемые другими индикаторами.[SAR+ADX](https://www.azbukatreydera.ru/sekrety-indikatora-adx.html)\n",
    "### *1. Directional Movement*<br> $ UpMove = High_i - High_{i-1}$<br>$ DownMove = Low_{i-1} - Low_i$\n",
    "\n",
    "$if\\ UpMove > DownMove\\ \\&\\ UpMove > 0:\\ +DM = UpMove$ <br> **else**: $+DM = 0$<br> \n",
    "$if\\ DownMove > UpMove\\ \\&\\ DownMove > 0:\\  -DM = DownMove$ <br> **else**: $-DM = 0$\n",
    "\n",
    "\n",
    "### $High_i -  High_{i-1} = UpMove$ <br>$ Low_{i-1} - Low_i = DownMove$\n",
    "\n",
    "\n",
    "### *2. Directional Indicator*<br>$+DI = 100*EMA(\\frac{+DM}{ Average True Range}) $<br> $-DI = 100*EMA(\\frac{-DM}{Average True Range})$\n",
    "\n",
    "### $\\%ADX = 100*EMA(abs(\\frac{+DI - -DI}{+DI + -DI}))$"
   ]
  },
  {
   "cell_type": "code",
   "execution_count": 257,
   "metadata": {},
   "outputs": [],
   "source": [
    "def adx(df, n):\n",
    "    df = df.copy()\n",
    "    df['UpMove'] = df['High'] - df['High'].shift(1)\n",
    "    df['DownMove'] = df['Low'].shift(1) - df['Low']\n",
    "    df['Zero'] = 0\n",
    "\n",
    "    df['PlusDM'] = np.where((df['UpMove'] > df['DownMove']) & (df['UpMove'] > df['Zero']), df['UpMove'], 0)\n",
    "    df['MinusDM'] = np.where((df['UpMove'] < df['DownMove']) & (df['DownMove'] > df['Zero']), df['DownMove'], 0)\n",
    "\n",
    "    df['plusDI'] = 100 * (df['PlusDM']/df['ATR']).ewm(span=n).mean()\n",
    "    df['minusDI'] = 100 * (df['MinusDM']/df['ATR']).ewm(span=n).mean()\n",
    "\n",
    "    return 100 * (abs((df['plusDI'] - df['minusDI'])/(df['plusDI'] + df['minusDI']))).ewm(span=n).mean()"
   ]
  },
  {
   "cell_type": "code",
   "execution_count": 258,
   "metadata": {},
   "outputs": [],
   "source": [
    "df['%ADX'] = adx(df, 14)"
   ]
  },
  {
   "cell_type": "markdown",
   "metadata": {},
   "source": [
    "# 18. Money Flow Index [MFI](https://forexlab-ru.turbopages.org/s/forexlab.ru/money-flow-index-mfi-description/)\n",
    " призванный показать интенсивность, с которой деньги вкладываются в ценную бумагу и выводятся из неё, анализируя объёмы торгов и соотношения типичных цен периодов\n",
    "\n",
    "$Typical Price = (High + Low + Close)/3$\n",
    "\n",
    "$Raw Money Flow = Typical Price * Volume$\n",
    "\n",
    "Денежный поток делится на положительный и отрицательный\n",
    "\n",
    "### Positive money flow = $typicalPrice_i > typicalPrice_{i-1} $ => typicalPrice x Volume<br>Negative money flow = $typicalPrice_i < typicalPrice_{i-1} $=> typicalPrice x Volume\n",
    "\n",
    "Money Flow Ratio = (14-period Positive Money Flow)/(14-period Negative Money Flow)\n",
    "\n",
    "Money Flow Index = 100 - 100/(1 + Money Flow Ratio)"
   ]
  },
  {
   "cell_type": "code",
   "execution_count": 259,
   "metadata": {},
   "outputs": [],
   "source": [
    "def MFI(df):\n",
    "    df = df.copy()\n",
    "    typicalPrice = (df['High']+df['Low']+df['Close'])/3\n",
    "    rawMoneyFlow = typicalPrice * df['Volume']\n",
    "    df['Positive MF'] = np.where(typicalPrice > typicalPrice.shift(1), rawMoneyFlow, 0)\n",
    "    df['Negative MF'] = np.where(typicalPrice < typicalPrice.shift(1), rawMoneyFlow, 0)\n",
    "    ratio_mf = df['Positive MF'].rolling(window=14).sum()/df['Negative MF'].rolling(14).sum()\n",
    "    return  100 - 100 / (1 + ratio_mf)"
   ]
  },
  {
   "cell_type": "code",
   "execution_count": 260,
   "metadata": {},
   "outputs": [],
   "source": [
    "df['%MFI'] = MFI(df)"
   ]
  },
  {
   "cell_type": "markdown",
   "metadata": {},
   "source": [
    "# 19. Ichimoku Cloud\n",
    "[Ichimoku kinkou-hyou](https://ru.wikipedia.org/wiki/Индикатор_Ишимоку) — «таблица равновесия цен, которую можно охватить одним взглядом»\n",
    "\n",
    "\n",
    "***Turning Line*** = ( Highest High + Lowest Low ) / 2, for the past `9 days`\n",
    "\n",
    "***Standard Line*** = ( Highest High + Lowest Low ) / 2, for the past `26 days`\n",
    "\n",
    "***Leading Span 1*** = ( ***Standard Line + Turning Line*** ) / 2, plotted `26 days` ahead of today\n",
    "\n",
    "***Leading Span 2*** = ( Highest High + Lowest Low ) / 2, for the past `52 days`, plotted `26 days` ahead of today\n",
    "\n",
    "***Cloud*** = Shaded Area between ***Span 1*** and ***Span 2***\n",
    "\n",
    "***«Мертвый крест»*** — пересечение сверху вниз тенкан и киджун. Сигнал для открытия короткой позиции.<br>\n",
    "***«Золотой крест»*** — тенкан пересекает киджун снизу вверх. Сигнал для открытия длинной позиции.<br>\n",
    "Если цена находится в «облаке» — это боковое движение рынка.\n"
   ]
  },
  {
   "cell_type": "code",
   "execution_count": 261,
   "metadata": {},
   "outputs": [],
   "source": [
    "def ichimoku(df):\n",
    "    # Turning Line\n",
    "    period9_high = df['High'].rolling(9).max()\n",
    "    period9_low  = df['Low'].rolling(9).min()\n",
    "    df['turning_line'] = (period9_high + period9_low) / 2\n",
    "    \n",
    "    # Standard Line\n",
    "    period26_high = df['High'].rolling(26).max()\n",
    "    period26_low  = df['Low'].rolling(26).min()\n",
    "    df['standard_line'] = (period26_high + period26_low) / 2\n",
    "    \n",
    "    # Leading Span 1\n",
    "    df['ichimoku_span1'] = ((df['turning_line'] + df['standard_line']) / 2).shift(26)\n",
    "    \n",
    "    # Leading Span 2\n",
    "    period52_high = df['High'].rolling(52).max()\n",
    "    period52_low  = df['Low'].rolling(52).min()\n",
    "    df['ichimoku_span2'] = ((period52_high + period52_low) / 2).shift(26)\n",
    "    \n",
    "    # The most current closing price plotted 22 time periods behind\n",
    "    df['chikou_span'] = df['Close'].shift(-22)"
   ]
  },
  {
   "cell_type": "code",
   "execution_count": 262,
   "metadata": {},
   "outputs": [],
   "source": [
    "ichimoku(df)"
   ]
  },
  {
   "cell_type": "markdown",
   "metadata": {},
   "source": [
    "# 20. Williams percent range [%WR](https://bcs-express.ru/novosti-i-analitika/volshebnyi-indikator-williams-r)\n",
    "определяет состояние перекупленности/перепроданности по положению текущей цены закрытия в диапазоне между минимумом и максимумом цен за предыдущие периоды\n",
    "### $ \\%R = -100 * \\frac{ Highest High - Close}{ Highest High - Lowest Low } $\n"
   ]
  },
  {
   "cell_type": "code",
   "execution_count": 263,
   "metadata": {},
   "outputs": [],
   "source": [
    "def WillR(df):\n",
    "    highest_high = df['High'].rolling(14).max()\n",
    "    lowest_low = df['Low'].rolling(14).min()\n",
    "    return (-100) * ((highest_high - df['Close']) / (highest_high - lowest_low))"
   ]
  },
  {
   "cell_type": "code",
   "execution_count": 264,
   "metadata": {},
   "outputs": [],
   "source": [
    "df['%WillR'] = WillR(df)"
   ]
  },
  {
   "cell_type": "markdown",
   "metadata": {},
   "source": [
    "# 21. MINMAX\n",
    "Индикатор служит для определения сильных уровней поддержки и сопротивления, пробой которых, чаще всего приводит к возникновению тренда."
   ]
  },
  {
   "cell_type": "code",
   "execution_count": 265,
   "metadata": {},
   "outputs": [],
   "source": [
    "def MINMAX(df):\n",
    "    df['MIN_Volume'] = df['Volume'].rolling(14).min()\n",
    "    df['MAX_Volume'] = df['Volume'].rolling(14).max()"
   ]
  },
  {
   "cell_type": "markdown",
   "metadata": {},
   "source": [
    "# 21. Adaptive Moving Average [KAMA](http://o-s-a.net/articles/kama.html)\n",
    "модифицированный MA имеющий минимальную чувствительность к шумовым колебаниям рынка.<br>\n",
    "Период этой МА постоянно адаптируется к текущей волатильности рынка, удлиняясь или укорачиваясь в зависимости от амплитуды колебаний.\n",
    "[формулы](https://ru.wikipedia.org/wiki/Адаптивная_скользящая_средняя_Кауфмана)\n",
    "\n",
    "***efficiency ratio*** - *коэффициент эффективности* основан на соотношении общего движения цены *(direction)* и суммы абсолютных значений шумовых движений рынка *(volatility)* за определенный период(n)\n",
    "\n",
    "***scaled smoothing constant*** - изменяющаяся сглаживающая константа,<br> строится исходя из предположения, что в завимиости от *коэффициента эффективности* она должна «помнить» данные за разное количество предыдущих периодов. <br>То есть на трендовом рынке следует применять быструю скользящую среднюю, а на нетрендовом — медленную\n",
    "\n",
    "### ${\\textit {sc}}=({\\textit {EfficiencyRatio}}\\cdot ({\\textit {fastest}}-{\\textit {slowest}})+{\\textit {slowest}})^{2}$\n",
    "### $KAMA[i] = sc * Close[i]+(1-sc) * KAMA[i-1]$"
   ]
  },
  {
   "cell_type": "code",
   "execution_count": 305,
   "metadata": {},
   "outputs": [],
   "source": [
    "def KAMA(close, n=10, f=2, s=30):\n",
    "    direction  = abs( close - close.shift(n))\n",
    "    absDiffx = abs(close - close.shift(1))  \n",
    "    volatility = absDiffx.rolling(n).sum()\n",
    "    ER = direction / volatility\n",
    "\n",
    "    fastest = 2/(f+1)\n",
    "    slowest = 2/(s+1)\n",
    "    sc = (ER*(fastest - slowest) + slowest) ** 2\n",
    "\n",
    "    answer = np.zeros(len(close))\n",
    "    for i in range(n,len(close)):\n",
    "            answer[i] = answer[i-1] + sc[i] * (close[i] - answer[i-1])\n",
    "    return answer"
   ]
  },
  {
   "cell_type": "code",
   "execution_count": 309,
   "metadata": {},
   "outputs": [],
   "source": [
    "df['KAMA'] = KAMA(df['Close'])"
   ]
  }
 ],
 "metadata": {
  "kernelspec": {
   "display_name": "Python 3",
   "language": "python",
   "name": "python3"
  },
  "language_info": {
   "codemirror_mode": {
    "name": "ipython",
    "version": 3
   },
   "file_extension": ".py",
   "mimetype": "text/x-python",
   "name": "python",
   "nbconvert_exporter": "python",
   "pygments_lexer": "ipython3",
   "version": "3.6.9"
  }
 },
 "nbformat": 4,
 "nbformat_minor": 4
}
