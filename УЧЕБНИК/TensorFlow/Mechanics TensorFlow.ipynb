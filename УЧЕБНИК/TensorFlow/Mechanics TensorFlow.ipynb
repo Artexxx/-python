{
 "cells": [
  {
   "cell_type": "code",
   "execution_count": 1,
   "metadata": {},
   "outputs": [],
   "source": [
    "import numpy as np\n",
    "import pandas as pd\n",
    "import matplotlib.pyplot as plt\n",
    "\n",
    "import tensorflow.compat.v1 as tf1\n",
    "import tensorflow as tf\n",
    "import warnings\n",
    "warnings.filterwarnings(\"ignore\")"
   ]
  },
  {
   "cell_type": "markdown",
   "metadata": {},
   "source": [
    "# Создание вычислительного графа"
   ]
  },
  {
   "cell_type": "markdown",
   "metadata": {},
   "source": [
    "<img src='https://user-images.githubusercontent.com/54672403/83133757-fff18b00-a0eb-11ea-804b-c0784c903a4b.png' width='400'>"
   ]
  },
  {
   "cell_type": "code",
   "execution_count": 2,
   "metadata": {},
   "outputs": [
    {
     "name": "stdout",
     "output_type": "stream",
     "text": [
      "2(a-b)+c ~> 1\n"
     ]
    }
   ],
   "source": [
    "# ~~~~~~~~~~~~~ TF~v1.x \n",
    "g = tf.Graph()\n",
    "# добавление узлов в граф\n",
    "with g.as_default():\n",
    "    a = tf1.constant(1, name='a')\n",
    "    b = tf1.constant(2, name='b') \n",
    "    c = tf1.constant(3, name='c') \n",
    "\n",
    "    z = 2*(a-b) + c\n",
    "    \n",
    "# запуск графа\n",
    "with tf1.Session(graph=g) as sess:\n",
    "    print('2(a-b)+c ~>', sess.run(z))\n",
    "    file_writer = tf1.summary.FileWriter(logdir='./logs/tf-cond/', graph=g)"
   ]
  },
  {
   "cell_type": "code",
   "execution_count": 3,
   "metadata": {},
   "outputs": [
    {
     "name": "stdout",
     "output_type": "stream",
     "text": [
      "2(a-b)+c ~> 1\n"
     ]
    }
   ],
   "source": [
    "# ~~~~~~~~~~~~~ TF~v2.x \n",
    "a = tf.constant(1, name='a')\n",
    "b = tf.constant(2, name='b')\n",
    "c = tf.constant(3, name='c')\n",
    "\n",
    "z = 2*(a - b) + c\n",
    "tf.print('2(a-b)+c ~>', z)"
   ]
  },
  {
   "cell_type": "markdown",
   "metadata": {},
   "source": [
    "## Загрузка входных данных в модель"
   ]
  },
  {
   "cell_type": "code",
   "execution_count": 4,
   "metadata": {},
   "outputs": [
    {
     "name": "stdout",
     "output_type": "stream",
     "text": [
      "2(a-b)+c ~> 1\n"
     ]
    }
   ],
   "source": [
    "# ~~~~~~~~~~~~~ TF~v1.x \n",
    "g = tf.Graph()\n",
    "with g.as_default():\n",
    "    a = tf1.placeholder(shape=None, dtype=tf.int32, name='tf_a')\n",
    "    b = tf1.placeholder(shape=None, dtype=tf.int32, name='tf_b')\n",
    "    c = tf1.placeholder(shape=None, dtype=tf.int32, name='tf_c')\n",
    "    z = 2*(a - b) + c\n",
    "    \n",
    "with tf1.Session(graph=g) as sess:\n",
    "    feed_dict = {a:1, b:2, c:3}\n",
    "    print('2(a-b)+c ~>', sess.run(z, feed_dict=feed_dict))"
   ]
  },
  {
   "cell_type": "code",
   "execution_count": 5,
   "metadata": {},
   "outputs": [
    {
     "name": "stdout",
     "output_type": "stream",
     "text": [
      "Скалярный вход: 1\n",
      "вход ранга 1:  [1]\n",
      "вход ранга 2: [[1]]\n"
     ]
    }
   ],
   "source": [
    "# ~~~~~~~~~~~~~ TF~v2.x \n",
    "def compute_z(a, b, c):\n",
    "    r1 = tf.subtract(a, b)  # x-y\n",
    "    r2 = tf.multiply(2, r1) # _*2\n",
    "    z  = tf.add(r2, c)      # _+c\n",
    "    return z\n",
    "\n",
    "tf.print('Скалярный вход:', compute_z(1, 2, 3))\n",
    "tf.print('вход ранга 1: ',  compute_z([1], [2], [3]))\n",
    "tf.print('вход ранга 2:',   compute_z([[1]], [[2]], [[3]]))"
   ]
  },
  {
   "cell_type": "markdown",
   "metadata": {},
   "source": [
    "# Переменные (Variable)"
   ]
  },
  {
   "cell_type": "code",
   "execution_count": 6,
   "metadata": {},
   "outputs": [
    {
     "name": "stdout",
     "output_type": "stream",
     "text": [
      "WARNING:tensorflow:From /home/artem/.local/lib/python3.6/site-packages/tensorflow/python/ops/resource_variable_ops.py:1666: calling BaseResourceVariable.__init__ (from tensorflow.python.ops.resource_variable_ops) with constraint is deprecated and will be removed in a future version.\n",
      "Instructions for updating:\n",
      "If using Keras pass *_constraint arguments to layers.\n",
      "<tf.Variable 'w:0' shape=(2, 4) dtype=int64>\n"
     ]
    }
   ],
   "source": [
    "# ~~~~~~~~~~~~~ TF~v1.x \n",
    "g = tf.Graph()\n",
    "with g.as_default():\n",
    "    w = tf.Variable(np.array([[1, 2, 3, 4],[5, 6, 7, 8]]), name='w')\n",
    "    print(w)"
   ]
  },
  {
   "cell_type": "code",
   "execution_count": 7,
   "metadata": {},
   "outputs": [
    {
     "name": "stdout",
     "output_type": "stream",
     "text": [
      "[[1 2 3 4]\n",
      " [5 6 7 8]]\n"
     ]
    }
   ],
   "source": [
    "with tf1.Session(graph=g) as sess:\n",
    "    sess.run(tf1.global_variables_initializer())\n",
    "    print(sess.run(w))  # !!! невозможно оценить неинициализированную переменную"
   ]
  },
  {
   "cell_type": "code",
   "execution_count": 8,
   "metadata": {},
   "outputs": [
    {
     "name": "stdout",
     "output_type": "stream",
     "text": [
      "<tf.Variable 'var_a:0' shape=() dtype=float32, numpy=3.14>\n",
      "<tf.Variable 'var_b:0' shape=(3,) dtype=int32, numpy=array([1, 2, 3], dtype=int32)>\n",
      "<tf.Variable 'Variable:0' shape=(2,) dtype=bool, numpy=array([ True, False])>\n",
      "<tf.Variable 'Variable:0' shape=(1,) dtype=string, numpy=array([b'abc'], dtype=object)>\n"
     ]
    }
   ],
   "source": [
    "# ~~~~~~~~~~~~~ TF~v2.x \n",
    "a = tf.Variable(initial_value=    3.14,   name='var_a')\n",
    "b = tf.Variable(initial_value=  [1, 2, 3],name='var_b')\n",
    "c = tf.Variable(initial_value= [True, False], dtype=tf.bool)\n",
    "d = tf.Variable(initial_value=   ['abc'],     dtype=tf.string)\n",
    "\n",
    "print(a, b, c, d, sep='\\n')"
   ]
  },
  {
   "cell_type": "code",
   "execution_count": 9,
   "metadata": {},
   "outputs": [
    {
     "name": "stdout",
     "output_type": "stream",
     "text": [
      "[-0.58946538 -1.19845545 -0.29169783]\n"
     ]
    }
   ],
   "source": [
    "tf.random.set_seed(123)\n",
    "init = tf.keras.initializers.GlorotNormal()\n",
    "\n",
    "tf.print(init(shape=(3,)))"
   ]
  },
  {
   "cell_type": "code",
   "execution_count": 10,
   "metadata": {},
   "outputs": [
    {
     "name": "stdout",
     "output_type": "stream",
     "text": [
      "[[0.222344473 0.226434767 -0.433576673 -0.187390119]\n",
      " [-0.0803200901 -0.669147789 -0.0314613245 0.866858]]\n"
     ]
    }
   ],
   "source": [
    "tf.print(init(shape=(2, 4)))"
   ]
  },
  {
   "cell_type": "markdown",
   "metadata": {},
   "source": [
    "# Область видимости переменной"
   ]
  },
  {
   "cell_type": "code",
   "execution_count": 11,
   "metadata": {},
   "outputs": [
    {
     "name": "stdout",
     "output_type": "stream",
     "text": [
      "<tf.Variable 'net_A/layer-1/weights:0' shape=(10, 4) dtype=float32>\n",
      "<tf.Variable 'net_A/layer-2/weights:0' shape=(20, 10) dtype=float32>\n",
      "<tf.Variable 'net_B/layer-1/weights:0' shape=(10, 4) dtype=float32>\n"
     ]
    }
   ],
   "source": [
    "g = tf.Graph()\n",
    "with g.as_default(): # ~~~~~~~~~~~~~~~~~~~~~~~~~~ главный граф\n",
    "    with tf1.variable_scope('net_A'): # ~~~~~~~~~~~ подсеть A\n",
    "        with tf1.variable_scope('layer-1'): # ~~~~~~~ слой 1\n",
    "            w1 = tf.Variable(tf1.random_normal(\n",
    "                shape=(10,4)), name='weights')\n",
    "        with tf1.variable_scope('layer-2'): # ~~~~~~~ слой 2\n",
    "            w2 = tf.Variable(tf1.random_normal(\n",
    "                shape=(20,10)), name='weights')\n",
    "    \n",
    "    with tf1.variable_scope('net_B'): # ~~~~~~~~~~~ подсеть B\n",
    "        with tf1.variable_scope('layer-1'):\n",
    "            w3 = tf.Variable(tf1.random_normal(# ~~~ слой 1\n",
    "                shape=(10,4)), name='weights')\n",
    "\n",
    "    print(w1)\n",
    "    print(w2)\n",
    "    print(w3)\n",
    "    #tf1.summary.FileWriter(logdir='./logs/netAB/', graph=g)\n",
    "    #!tensorboard --logdir=logs"
   ]
  },
  {
   "cell_type": "markdown",
   "metadata": {},
   "source": [
    "# Повторное использование переменных"
   ]
  },
  {
   "cell_type": "code",
   "execution_count": 12,
   "metadata": {},
   "outputs": [
    {
     "name": "stdout",
     "output_type": "stream",
     "text": [
      "<tf.Variable 'classifier/weights:0' shape=(100, 2) dtype=float32>\n",
      "<tf.Variable 'classifier/bias:0' shape=(2,) dtype=float32>\n",
      "Tensor(\"classifier/logits:0\", shape=(64, 2), dtype=float32)\n",
      "<tf.Variable 'classifier/weights:0' shape=(100, 2) dtype=float32>\n",
      "<tf.Variable 'classifier/bias:0' shape=(2,) dtype=float32>\n",
      "Tensor(\"classifier/logits_1:0\", shape=(64, 2), dtype=float32)\n"
     ]
    }
   ],
   "source": [
    "# ~~~~~~~~~~~~~~| Вспомогательные функции |~~~~~~~~~~~~~~~~ #\n",
    "def build_classifier(data, labels, n_classes=2):\n",
    "    data_shape = data.get_shape().as_list()\n",
    "    weights = tf1.get_variable(name='weights', shape=(data_shape[1], n_classes), dtype=tf.float32)\n",
    "    bias    = tf1.get_variable(name='bias',    initializer=tf.zeros(shape=n_classes))\n",
    "    print(weights)\n",
    "    print(bias)\n",
    "    logits = tf.add(tf.matmul(data, weights), bias, name='logits')\n",
    "    print(logits)\n",
    "    return logits, tf.nn.softmax(logits)\n",
    "\n",
    "def build_generator(data, n_hidden):\n",
    "    data_shape = data.get_shape().as_list()\n",
    "    \n",
    "    w1 = tf.Variable(tf1.random_normal(shape=(data_shape[1], n_hidden)),name='w1')\n",
    "    b1 = tf.Variable(        tf.zeros(shape=n_hidden),                  name='b1')\n",
    "    \n",
    "    hidden = tf.add(tf.matmul(data, w1), b1,  name='hidden_pre-activation')\n",
    "    hidden = tf.nn.relu(hidden, 'hidden_activation')\n",
    "        \n",
    "    w2 = tf.Variable(tf1.random_normal(shape=(n_hidden, data_shape[1])),name='w2')\n",
    "    b2 = tf.Variable(        tf.zeros(shape=data_shape[1]),             name='b2')\n",
    "    output =  tf.add(        tf.matmul(hidden, w2), b2,                 name = 'output')\n",
    "    return output, tf.nn.sigmoid(output)\n",
    "    \n",
    "# ~~~~~~~~~~~~~~| Построение графа |~~~~~~~~~~~~~~~~ #\n",
    "batch_size=64\n",
    "g = tf.Graph()\n",
    "\n",
    "with g.as_default():\n",
    "    tf_X = tf1.placeholder(shape=(batch_size, 100), dtype=tf.float32,    name='tf_X')\n",
    "    # Построение генератора \n",
    "    with tf1.variable_scope('generator'):\n",
    "        gen_out1 = build_generator(data=tf_X, n_hidden=50)\n",
    "    \n",
    "    # Построение классификатора\n",
    "    with tf1.variable_scope('classifier') as scope:\n",
    "        # классификатор для начальных данных\n",
    "        cls_out1 = build_classifier(data=tf_X, labels=tf.ones(shape=batch_size))\n",
    "        \n",
    "        # повторное использование классификатора для сгенеритрованных данных\n",
    "        scope.reuse_variables()\n",
    "        cls_out2 = build_classifier(data=gen_out1[1], labels=tf.zeros(shape=batch_size))\n",
    "        \n",
    "        init_op = tf1.global_variables_initializer()\n",
    "    tf1.summary.FileWriter(logdir='./logs/reuse/', graph=g)\n",
    "        "
   ]
  },
  {
   "cell_type": "code",
   "execution_count": 13,
   "metadata": {},
   "outputs": [
    {
     "name": "stdout",
     "output_type": "stream",
     "text": [
      "<tf.Variable 'classifier/weights:0' shape=(100, 2) dtype=float32>\n",
      "<tf.Variable 'classifier/bias:0' shape=(2,) dtype=float32>\n",
      "Tensor(\"classifier/logits:0\", shape=(64, 2), dtype=float32)\n",
      "<tf.Variable 'classifier/weights:0' shape=(100, 2) dtype=float32>\n",
      "<tf.Variable 'classifier/bias:0' shape=(2,) dtype=float32>\n",
      "Tensor(\"classifier_1/logits:0\", shape=(64, 2), dtype=float32)\n"
     ]
    }
   ],
   "source": [
    "g = tf.Graph()\n",
    "\n",
    "with g.as_default():\n",
    "    tf_X = tf1.placeholder(shape=(batch_size, 100), dtype=tf.float32, name='tf_X')\n",
    "\n",
    "    # Построение генератора \n",
    "    with tf1.variable_scope('generator'):\n",
    "        gen_out1 = build_generator(data=tf_X, n_hidden=50)    \n",
    "        \n",
    "    # Построение классификатора\n",
    "    with tf1.variable_scope('classifier'):\n",
    "        # классификатор для начальных данных\n",
    "        cls_out1 = build_classifier(data=tf_X, labels=tf.ones(shape=batch_size))\n",
    "        \n",
    "    with tf1.variable_scope('classifier', reuse=True):\n",
    "        # повторное использование классификатора для сгенеритрованных данных\n",
    "        cls_out2 = build_classifier(data=gen_out1[1], labels=tf.zeros(shape=batch_size))\n",
    "        \n",
    "        init_op = tf1.global_variables_initializer()"
   ]
  },
  {
   "cell_type": "code",
   "execution_count": 14,
   "metadata": {},
   "outputs": [
    {
     "name": "stdout",
     "output_type": "stream",
     "text": [
      "Tensor(\"y_hat:0\", dtype=float32)\n",
      "Tensor(\"cost:0\", shape=(), dtype=float32)\n"
     ]
    }
   ],
   "source": [
    "g = tf.Graph()\n",
    "\n",
    "with g.as_default():\n",
    "    tf1.set_random_seed(123)\n",
    "    tf_x = tf1.placeholder(shape=(None), dtype=tf.float32,  name='tf_x')\n",
    "    tf_y = tf1.placeholder(shape=(None), dtype=tf.float32,  name='tf_y')\n",
    "    \n",
    "    # определение параметров модели (variable)\n",
    "    weight = tf.Variable(tf1.random_normal(\n",
    "                         shape=(1, 1), \n",
    "                         stddev=0.25),\n",
    "                         name='weight')\n",
    "    bias = tf.Variable(0.0, name='bias')\n",
    "    \n",
    "    # построение модели\n",
    "    y_hat = tf.add(weight * tf_x, bias, name='y_hat')\n",
    "    print(y_hat)\n",
    "    \n",
    "    # расчёт стоимости\n",
    "    cost = tf.reduce_mean(tf.square(tf_y - y_hat), name='cost')\n",
    "    print(cost)\n",
    "    \n",
    "    # train\n",
    "    optim   = tf1.train.GradientDescentOptimizer(learning_rate=0.001)\n",
    "    train_op = optim.minimize(cost, name='train_op')"
   ]
  },
  {
   "cell_type": "markdown",
   "metadata": {},
   "source": [
    "# Linereg 1"
   ]
  },
  {
   "cell_type": "code",
   "execution_count": 15,
   "metadata": {},
   "outputs": [],
   "source": [
    "np.random.seed(0)\n",
    "def make_random_data():\n",
    "    x, y = np.random.uniform(low=-2, high=4, size=200), []\n",
    "    for t in x:\n",
    "        r = np.random.normal(loc=0.0, scale=(0.5 + t*t/3), size=None)\n",
    "        y.append(r)\n",
    "    return  x, 1.726*x - 0.84 + np.array(y)\n",
    "x, y = make_random_data() "
   ]
  },
  {
   "cell_type": "code",
   "execution_count": 16,
   "metadata": {},
   "outputs": [
    {
     "name": "stdout",
     "output_type": "stream",
     "text": [
      "Эпоха    0: 10.012\n",
      "Эпоха  100: 6.051\n",
      "Эпоха  200: 5.071\n",
      "Эпоха  300: 4.749\n",
      "Эпоха  400: 4.595\n",
      "\n",
      "\n",
      " SSE: 536.1264\n"
     ]
    },
    {
     "data": {
      "image/png": "[encoded data removed]",
      "text/plain": [
       "<Figure size 1080x216 with 2 Axes>"
      ]
     },
     "metadata": {
      "needs_background": "light"
     },
     "output_type": "display_data"
    }
   ],
   "source": [
    "x_train, y_train = x[:100], y[:100]\n",
    "x_test, y_test = x[100:], y[100:]\n",
    "\n",
    "# training the model\n",
    "n_epochs = 500\n",
    "training_costs = []\n",
    "with tf1.Session(graph=g) as sess:\n",
    "    # 1. запуск инициализатора переменных\n",
    "    sess.run(tf1.global_variables_initializer())\n",
    "    \n",
    "    # 2 итерационное обучение\n",
    "    for e in range(n_epochs):\n",
    "        c, _ = sess.run([cost, train_op], \n",
    "                        feed_dict={tf_x: x_train, tf_y: y_train})\n",
    "        training_costs.append(c)\n",
    "        if not e % 100:\n",
    "            print('Эпоха %4d: %.3f' % (e, c))\n",
    "    \n",
    "    y_pred = sess.run('y_hat:0', feed_dict={'tf_x:0' : x_test})\n",
    "print('\\n\\n SSE: %.4f' % (np.sum(np.square(y_pred - y_test))))\n",
    "\n",
    "\n",
    "fig = plt.figure(figsize=(15, 3))\n",
    "ax = fig.add_subplot(1, 3, 1)\n",
    "plt.plot(x_train, y_train, 'bo')\n",
    "plt.plot(x_test,  y_test, 'bo', alpha=0.3)\n",
    "plt.plot(x_test,  y_pred.T[:, 0], '-r');\n",
    "\n",
    "ax = fig.add_subplot(1, 3, 2)\n",
    "plt.plot(training_costs);\n",
    "plt.title('график издержек при обучении', size=15);"
   ]
  },
  {
   "cell_type": "markdown",
   "metadata": {},
   "source": [
    "# Linereg 2"
   ]
  },
  {
   "cell_type": "code",
   "execution_count": 17,
   "metadata": {},
   "outputs": [],
   "source": [
    "learning_rate = 0.01\n",
    "training_steps = 1000"
   ]
  },
  {
   "cell_type": "code",
   "execution_count": 18,
   "metadata": {},
   "outputs": [],
   "source": [
    "# определение параметров модели (variable)\n",
    "W = tf.Variable(tf1.random_normal(shape=(1, 1), \n",
    "                                  stddev=0.25),\n",
    "                                  name='weight')\n",
    "b = tf.Variable(0.0, name='bias')\n",
    "# Linear regression (Wx + b).\n",
    "def linear_regression(x):\n",
    "    return W * x + b\n",
    "\n",
    "# Mean square error.\n",
    "def mean_square(y_pred, y_true):\n",
    "    return tf.reduce_mean(tf.square(y_pred - y_true))\n",
    "\n",
    "# Stochastic Gradient Descent Optimizer.\n",
    "optimizer = tf.optimizers.SGD(learning_rate=.01)"
   ]
  },
  {
   "cell_type": "code",
   "execution_count": 19,
   "metadata": {},
   "outputs": [],
   "source": [
    "# Optimization process. \n",
    "def run_optimization():\n",
    "    # Wrap computation inside a GradientTape for automatic differentiation.\n",
    "    with tf.GradientTape() as g:\n",
    "        pred = linear_regression(x)\n",
    "        loss = mean_square(pred, y)\n",
    "\n",
    "    # Compute gradients.\n",
    "    gradients = g.gradient(loss, [W, b])\n",
    "    \n",
    "    # Update W and b following gradients.\n",
    "    optimizer.apply_gradients(zip(gradients, [W, b]))"
   ]
  },
  {
   "cell_type": "code",
   "execution_count": 20,
   "metadata": {},
   "outputs": [
    {
     "name": "stdout",
     "output_type": "stream",
     "text": [
      "step:     0, loss: 11.420906, W: -0.046601, b: 0.014311\n",
      "step:   100, loss: 4.736052, W: 1.342311, b: -0.571149\n",
      "step:   200, loss: 4.668155, W: 1.414819, b: -0.803392\n",
      "step:   300, loss: 4.663901, W: 1.432928, b: -0.861538\n",
      "step:   400, loss: 4.663634, W: 1.437461, b: -0.876093\n"
     ]
    },
    {
     "data": {
      "image/png": "[encoded data removed]",
      "text/plain": [
       "<Figure size 432x288 with 1 Axes>"
      ]
     },
     "metadata": {
      "needs_background": "light"
     },
     "output_type": "display_data"
    }
   ],
   "source": [
    "# Run training for the given number of steps.\n",
    "for step in range(500):\n",
    "    # Run the optimization to update W and b values.\n",
    "    run_optimization()\n",
    "    \n",
    "    if step % 100 == 0:\n",
    "        pred = linear_regression(x)\n",
    "        loss = mean_square(pred, y)\n",
    "        print(\"step:  %4d, loss: %f, W: %f, b: %f\" % (step, loss, W.numpy(), b.numpy()))\n",
    "\n",
    "plt.plot(x, y, '*', label='Original data')\n",
    "plt.plot(x, np.array(W * x + b).T[:, 0], label='Fitted line', lw=3)\n",
    "plt.legend()\n",
    "plt.show()"
   ]
  },
  {
   "cell_type": "markdown",
   "metadata": {},
   "source": [
    "#  Gradient\n",
    "Вычисление градиентов с помощью автоматического дифференцирования и GradientTape\n",
    "<br>Вычисление градиентов потерь по отношению к обучаемым переменным\n"
   ]
  },
  {
   "cell_type": "code",
   "execution_count": 21,
   "metadata": {},
   "outputs": [
    {
     "name": "stdout",
     "output_type": "stream",
     "text": [
      "w&b обучаемы?  True\n",
      "dL/dw :  -0.559999764\n"
     ]
    }
   ],
   "source": [
    "# ~~~~~~~~~~~~~~~~~~ TF~v2.x \n",
    "w = tf.Variable(1.0)\n",
    "b = tf.Variable(0.5)\n",
    "print('w&b обучаемы? ', w.trainable and b.trainable)\n",
    "\n",
    "x = tf.convert_to_tensor([1.4])\n",
    "y = tf.convert_to_tensor([2.1])\n",
    "\n",
    "with tf.GradientTape() as tape:\n",
    "    z    = tf.add(tf.multiply(w, x), b)\n",
    "    loss = tf.reduce_sum(tf.square(y - z))\n",
    "\n",
    "dloss_dw = tape.gradient(loss, w)\n",
    "tf.print('dL/dw : ', dloss_dw)"
   ]
  },
  {
   "cell_type": "code",
   "execution_count": 22,
   "metadata": {},
   "outputs": [
    {
     "name": "stdout",
     "output_type": "stream",
     "text": [
      "-0.559999764\n"
     ]
    }
   ],
   "source": [
    "# проверка вычисленного градиента\n",
    "tf.print(* 2*x * ((w*x + b) - y))"
   ]
  },
  {
   "cell_type": "markdown",
   "metadata": {},
   "source": [
    "Мониторинг необучаемых тензоров с помощью `tape.watch()`"
   ]
  },
  {
   "cell_type": "code",
   "execution_count": 23,
   "metadata": {},
   "outputs": [
    {
     "name": "stdout",
     "output_type": "stream",
     "text": [
      "dL/dx: -0.399999857\n"
     ]
    }
   ],
   "source": [
    "with tf.GradientTape() as tape:\n",
    "    tape.watch(x)\n",
    "    z = tf.add(tf.multiply(w, x), b)\n",
    "    loss = tf.square(y - z)\n",
    "\n",
    "dloss_dx = tape.gradient(loss, x)\n",
    "tf.print('dL/dx:', *dloss_dx)"
   ]
  },
  {
   "cell_type": "code",
   "execution_count": 24,
   "metadata": {},
   "outputs": [
    {
     "name": "stdout",
     "output_type": "stream",
     "text": [
      "-0.399999857\n"
     ]
    }
   ],
   "source": [
    "# проверка вычисленного градиента\n",
    "tf.print(* 2*w * ((w*x + b) - y))"
   ]
  },
  {
   "cell_type": "markdown",
   "metadata": {},
   "source": [
    "Сохранение ресурсов для многократных вычислений градиента\n",
    "`persistent=True`"
   ]
  },
  {
   "cell_type": "code",
   "execution_count": 25,
   "metadata": {},
   "outputs": [
    {
     "name": "stdout",
     "output_type": "stream",
     "text": [
      "dL/dw: -0.559999764\n",
      "dL/db: -0.399999857\n"
     ]
    }
   ],
   "source": [
    "with tf.GradientTape(persistent=True) as tape:\n",
    "    z = tf.add(tf.multiply(w, x), b)\n",
    "    loss = tf.reduce_sum(tf.square(y - z))\n",
    "\n",
    "dloss_dw = tape.gradient(loss, w)\n",
    "dloss_db = tape.gradient(loss, b)\n",
    "\n",
    "tf.print('dL/dw:', dloss_dw)\n",
    "tf.print('dL/db:', dloss_db)"
   ]
  },
  {
   "cell_type": "markdown",
   "metadata": {},
   "source": [
    "Обновление переменных через `optimizer.apply_gradients()`"
   ]
  },
  {
   "cell_type": "code",
   "execution_count": 26,
   "metadata": {},
   "outputs": [
    {
     "name": "stdout",
     "output_type": "stream",
     "text": [
      "Обновлённый w:    1.0056\n",
      "Обновлённый bias: 0.504\n"
     ]
    }
   ],
   "source": [
    "optimizer = tf.keras.optimizers.SGD()\n",
    "\n",
    "optimizer.apply_gradients(zip([dloss_dw, dloss_db], [w, b]))\n",
    "\n",
    "tf.print('Обновлённый w:   ', w)\n",
    "tf.print('Обновлённый bias:', b)"
   ]
  },
  {
   "cell_type": "markdown",
   "metadata": {},
   "source": [
    "## Использование механики управления потоком в построении графов"
   ]
  },
  {
   "cell_type": "code",
   "execution_count": 27,
   "metadata": {},
   "outputs": [
    {
     "name": "stdout",
     "output_type": "stream",
     "text": [
      "Object:  Tensor(\"result_add:0\", dtype=float32)\n",
      "x < y:  True ~> Result: 3.0\n",
      "x < y: False ~> Result: 3.0\n"
     ]
    }
   ],
   "source": [
    "# ~~~~~~~~~~~~~ TF~v1.x \n",
    "# !!!!!!!!_______________ ! задуманное ветвление не сработало !______________!!!!!!!!!\n",
    "x, y = 1.0, 2.0\n",
    "g = tf.Graph()\n",
    "with g.as_default():\n",
    "    tf_x = tf1.placeholder(dtype=tf.float32, shape=None, name='tf_x')\n",
    "    tf_y = tf1.placeholder(dtype=tf.float32, shape=None, name='tf_y')\n",
    "    if x < y:\n",
    "        res = tf.add(tf_x, tf_y, name='result_add')\n",
    "    else:\n",
    "        res = tf.subtract(tf_x, tf_y, name='result_sub')\n",
    "    print('Object: ', res)\n",
    "        \n",
    "with tf1.Session(graph=g) as sess:\n",
    "    print('x < y:  %s ~> Result:'%(x < y), \n",
    "          res.eval(feed_dict={'tf_x:0': x, 'tf_y:0': y}))\n",
    "    x, y = 2.0, 1.0\n",
    "    print('x < y: %s ~> Result:'%(x < y), \n",
    "          res.eval(feed_dict={'tf_x:0': x, 'tf_y:0': y}))  \n",
    "# !!!!!!!!_______________ ! задуманное ветвление не сработало !______________!!!!!!!!!"
   ]
  },
  {
   "cell_type": "code",
   "execution_count": 28,
   "metadata": {},
   "outputs": [
    {
     "name": "stdout",
     "output_type": "stream",
     "text": [
      "Object:  Tensor(\"cond/Identity:0\", dtype=float32)\n",
      "x < y:  True ~> Result: 3.0\n",
      "x < y: False ~> Result: 1.0\n"
     ]
    }
   ],
   "source": [
    "# ~~~~~~~~~~~~~ TF~v1.x \n",
    "x, y = 1.0, 2.0\n",
    "g = tf.Graph()\n",
    "with g.as_default():\n",
    "    tf_x = tf1.placeholder(dtype=tf.float32, shape=None, name='tf_x')\n",
    "    tf_y = tf1.placeholder(dtype=tf.float32, shape=None, name='tf_y')\n",
    "    res = tf.cond(tf_x < tf_y, \n",
    "                  lambda: tf.add(tf_x, tf_y, name='result_add'),\n",
    "                  lambda: tf.subtract(tf_x, tf_y, name='result_sub'))\n",
    "    print('Object: ', res)\n",
    "        \n",
    "with tf1.Session(graph=g) as sess:\n",
    "    print('x < y:  %s ~> Result:'%(x < y), \n",
    "          res.eval(feed_dict={'tf_x:0': x, 'tf_y:0': y}))\n",
    "    x, y = 2.0, 1.0\n",
    "    print('x < y: %s ~> Result:'%(x < y), \n",
    "          res.eval(feed_dict={'tf_x:0': x, 'tf_y:0': y})) \n",
    "    tf1.summary.FileWriter(logdir='logs/', graph=g)"
   ]
  },
  {
   "cell_type": "markdown",
   "metadata": {},
   "source": [
    "## Конфигурации для сети\n",
    "- Keras Initializers `tf.keras.initializers`: https://www.tensorflow.org/versions/r2.0/api_docs/python/tf/keras/initializers\n",
    "- Keras Regularizers `tf.keras.regularizers:` https://www.tensorflow.org/versions/r2.0/api_docs/python/tf/keras/regularizers\n",
    "- Activations `tf.keras.activations:` \n",
    "https://www.tensorflow.org/versions/r2.0/api_docs/python/tf/keras/activations"
   ]
  },
  {
   "cell_type": "code",
   "execution_count": 29,
   "metadata": {
    "scrolled": true
   },
   "outputs": [
    {
     "name": "stdout",
     "output_type": "stream",
     "text": [
      "Model: \"sequential\"\n",
      "_________________________________________________________________\n",
      "Layer (type)                 Output Shape              Param #   \n",
      "=================================================================\n",
      "dense (Dense)                multiple                  80        \n",
      "_________________________________________________________________\n",
      "dense_1 (Dense)              multiple                  544       \n",
      "=================================================================\n",
      "Total params: 624\n",
      "Trainable params: 624\n",
      "Non-trainable params: 0\n",
      "_________________________________________________________________\n"
     ]
    }
   ],
   "source": [
    "model = tf.keras.Sequential()\n",
    "\n",
    "model.add(\n",
    "    tf.keras.layers.Dense(\n",
    "        units=16, \n",
    "        activation =       tf.keras.activations.relu,\n",
    "        kernel_initializer=tf.keras.initializers.GlorotNormal(),\n",
    "        bias_initializer = tf.keras.initializers.Constant(2.0)\n",
    "    ))\n",
    "\n",
    "model.add(\n",
    "    tf.keras.layers.Dense(\n",
    "        units=32, \n",
    "        activation=        tf.keras.activations.sigmoid,\n",
    "        kernel_regularizer=tf.keras.regularizers.l1\n",
    "    ))\n",
    "\n",
    "model.build(input_shape=(None, 4))\n",
    "model.summary()"
   ]
  },
  {
   "cell_type": "code",
   "execution_count": 30,
   "metadata": {},
   "outputs": [],
   "source": [
    "model.compile(\n",
    "  optimizer=tf.keras.optimizers.SGD(learning_rate=0.001),\n",
    "  loss=     tf.keras.losses.BinaryCrossentropy(),\n",
    "  metrics=[tf.keras.metrics.Accuracy(), \n",
    "           tf.keras.metrics.Precision(),\n",
    "           tf.keras.metrics.Recall(),])"
   ]
  },
  {
   "cell_type": "markdown",
   "metadata": {},
   "source": [
    "# XOR classification problem"
   ]
  },
  {
   "cell_type": "code",
   "execution_count": 31,
   "metadata": {},
   "outputs": [],
   "source": [
    "tf.random.set_seed(1)\n",
    "np.random.seed(1)\n",
    "\n",
    "x = np.random.uniform(low=-1, high=1, size=(200, 2))\n",
    "y = np.ones(len(x))\n",
    "y[x[:, 0] * x[:, 1]<0] = 0\n",
    "\n",
    "x_train = x[:100, :]\n",
    "y_train = y[:100]\n",
    "x_valid = x[100:, :]\n",
    "y_valid = y[100:]"
   ]
  },
  {
   "cell_type": "code",
   "execution_count": 32,
   "metadata": {},
   "outputs": [
    {
     "name": "stdout",
     "output_type": "stream",
     "text": [
      "Model: \"sequential_1\"\n",
      "_________________________________________________________________\n",
      "Layer (type)                 Output Shape              Param #   \n",
      "=================================================================\n",
      "dense_2 (Dense)              (None, 4)                 12        \n",
      "_________________________________________________________________\n",
      "dense_3 (Dense)              (None, 4)                 20        \n",
      "_________________________________________________________________\n",
      "dense_4 (Dense)              (None, 4)                 20        \n",
      "_________________________________________________________________\n",
      "dense_5 (Dense)              (None, 1)                 5         \n",
      "=================================================================\n",
      "Total params: 57\n",
      "Trainable params: 57\n",
      "Non-trainable params: 0\n",
      "_________________________________________________________________\n"
     ]
    }
   ],
   "source": [
    "tf.random.set_seed(1)\n",
    "\n",
    "model = tf.keras.Sequential()\n",
    "model.add(tf.keras.layers.Dense(units=4, input_shape=(2,), activation='relu'))\n",
    "model.add(tf.keras.layers.Dense(units=4, activation='relu'))\n",
    "model.add(tf.keras.layers.Dense(units=4, activation='relu'))\n",
    "model.add(tf.keras.layers.Dense(units=1, activation='sigmoid'))\n",
    "\n",
    "model.summary()\n",
    "\n",
    "# compile:\n",
    "model.compile(optimizer=tf.keras.optimizers.SGD(),\n",
    "              loss =    tf.keras.losses.BinaryCrossentropy(),\n",
    "              metrics= [tf.keras.metrics.BinaryAccuracy()])\n",
    "\n",
    "# train:\n",
    "hist = model.fit(x_train, y_train, \n",
    "                 validation_data=(x_valid, y_valid), \n",
    "                 epochs=200, batch_size=2, verbose=0)\n",
    "history = hist.history"
   ]
  },
  {
   "cell_type": "code",
   "execution_count": 33,
   "metadata": {},
   "outputs": [
    {
     "data": {
      "image/png": "[encoded data removed]",
      "text/plain": [
       "<Figure size 1152x288 with 3 Axes>"
      ]
     },
     "metadata": {
      "needs_background": "light"
     },
     "output_type": "display_data"
    }
   ],
   "source": [
    "from mlxtend.plotting import plot_decision_regions\n",
    "def creating_stat_for_model():\n",
    "    fig = plt.figure(figsize=(16, 4))\n",
    "\n",
    "    ax = fig.add_subplot(1, 3, 1)\n",
    "    plt.plot(history['loss'])\n",
    "    plt.plot(history['val_loss'])\n",
    "    plt.legend(['Train loss', 'Validation loss'])\n",
    "    ax.set_xlabel('Epochs', size=15)\n",
    "\n",
    "    ax = fig.add_subplot(1, 3, 2)\n",
    "    plt.plot(history['binary_accuracy'])\n",
    "    plt.plot(history['val_binary_accuracy'])\n",
    "    plt.legend(['Train Acc.', 'Validation Acc'])\n",
    "    ax.set_xlabel('Epochs', size=15)\n",
    "\n",
    "    ax = fig.add_subplot(1, 3, 3)\n",
    "    plot_decision_regions(X=x_valid, y=y_valid.astype(np.integer), clf=model)\n",
    "creating_stat_for_model();"
   ]
  },
  {
   "cell_type": "markdown",
   "metadata": {},
   "source": [
    "## Реализация на основе класса моделей Keras\n",
    "`tf.keras.Model`,\n",
    "`__init__()`, `call()`"
   ]
  },
  {
   "cell_type": "code",
   "execution_count": 34,
   "metadata": {},
   "outputs": [
    {
     "name": "stdout",
     "output_type": "stream",
     "text": [
      "Model: \"my_model\"\n",
      "_________________________________________________________________\n",
      "Layer (type)                 Output Shape              Param #   \n",
      "=================================================================\n",
      "dense_6 (Dense)              multiple                  12        \n",
      "_________________________________________________________________\n",
      "dense_7 (Dense)              multiple                  20        \n",
      "_________________________________________________________________\n",
      "dense_8 (Dense)              multiple                  20        \n",
      "_________________________________________________________________\n",
      "dense_9 (Dense)              multiple                  5         \n",
      "=================================================================\n",
      "Total params: 57\n",
      "Trainable params: 57\n",
      "Non-trainable params: 0\n",
      "_________________________________________________________________\n"
     ]
    }
   ],
   "source": [
    "class MyModel(tf.keras.Model):\n",
    "    def __init__(self):\n",
    "        super(MyModel, self).__init__()\n",
    "        self.hidden_1 = tf.keras.layers.Dense(units=4, activation='relu')\n",
    "        self.hidden_2 = tf.keras.layers.Dense(units=4, activation='relu')\n",
    "        self.hidden_3 = tf.keras.layers.Dense(units=4, activation='relu')\n",
    "        self.output_layer = tf.keras.layers.Dense(units=1, activation='sigmoid')\n",
    "        \n",
    "    def call(self, inputs):\n",
    "        h = self.hidden_1(inputs)\n",
    "        h = self.hidden_2(h)\n",
    "        h = self.hidden_3(h)\n",
    "        return self.output_layer(h)\n",
    "    \n",
    "tf.random.set_seed(1)\n",
    "\n",
    "# testing:\n",
    "model = MyModel()\n",
    "model.build(input_shape=(None, 2))\n",
    "model.summary()\n",
    "\n",
    "# compile:\n",
    "model.compile(optimizer=tf.keras.optimizers.SGD(),\n",
    "              loss =    tf.keras.losses.BinaryCrossentropy(),\n",
    "              metrics= [tf.keras.metrics.BinaryAccuracy()])\n",
    "\n",
    "## train:\n",
    "hist = model.fit(x_train, y_train, \n",
    "                 validation_data=(x_valid, y_valid), \n",
    "                 epochs=200, batch_size=2, verbose=0)\n",
    "history = hist.history"
   ]
  },
  {
   "cell_type": "code",
   "execution_count": 35,
   "metadata": {},
   "outputs": [
    {
     "data": {
      "image/png": "[encoded data removed]",
      "text/plain": [
       "<Figure size 1152x288 with 3 Axes>"
      ]
     },
     "metadata": {
      "needs_background": "light"
     },
     "output_type": "display_data"
    }
   ],
   "source": [
    "creating_stat_for_model()"
   ]
  },
  {
   "cell_type": "markdown",
   "metadata": {},
   "source": [
    "## Написание кастомных слоев Keras\n",
    "`__init__()`,` build()`,`call()`, `get_config()`"
   ]
  },
  {
   "cell_type": "code",
   "execution_count": 36,
   "metadata": {},
   "outputs": [
    {
     "name": "stdout",
     "output_type": "stream",
     "text": [
      "[[0 0.00821428 0 0]]\n",
      "[[0 0.0108502861 0 0]]\n"
     ]
    }
   ],
   "source": [
    "class NoisyLinear(tf.keras.layers.Layer):\n",
    "    def __init__(self, output_dim, noise_stddev=0.1, **kwargs):\n",
    "        self.output_dim = output_dim\n",
    "        self.noise_stddev = noise_stddev\n",
    "        super(NoisyLinear, self).__init__(**kwargs)\n",
    "\n",
    "    def build(self, input_shape):\n",
    "        self.w = self.add_weight(name = 'weights',\n",
    "                                 shape = (input_shape[1], self.output_dim),\n",
    "                                 initializer = 'random_normal',\n",
    "                                 trainable = True)\n",
    "        \n",
    "        self.b = self.add_weight(shape=(self.output_dim,),\n",
    "                                 initializer = 'zeros',\n",
    "                                 trainable = True)\n",
    "\n",
    "    def call(self, inputs, training=False):\n",
    "        if training:\n",
    "            batch = tf.shape(inputs)[0]\n",
    "            dim   = tf.shape(inputs)[1]\n",
    "            noise = tf.random.normal(shape=(batch, dim), mean=0.0, \n",
    "                                     stddev=self.noise_stddev)\n",
    "\n",
    "            noisy_inputs = tf.add(inputs, noise)\n",
    "        else:\n",
    "            noisy_inputs = inputs\n",
    "        \n",
    "        z  =   tf.matmul(noisy_inputs, self.w) + self.b\n",
    "        return tf.keras.activations.relu(z)\n",
    "    \n",
    "    def get_config(self):\n",
    "        config = super(NoisyLinear, self).get_config()\n",
    "        config.update({'output_dim': self.output_dim,\n",
    "                     'noise_stddev': self.noise_stddev})\n",
    "        return config\n",
    "    \n",
    "# testing:\n",
    "tf.random.set_seed(1)\n",
    "\n",
    "noisy_layer = NoisyLinear(output_dim= 4)\n",
    "noisy_layer.build(input_shape= (None, 4))\n",
    "\n",
    "x = tf.zeros(shape=(1, 4))\n",
    "tf.print(noisy_layer(x, training=True))\n",
    "\n",
    "# re-building from config:\n",
    "config = noisy_layer.get_config()\n",
    "new_layer = NoisyLinear.from_config(config)\n",
    "tf.print(new_layer(x, training=True))"
   ]
  },
  {
   "cell_type": "code",
   "execution_count": 37,
   "metadata": {},
   "outputs": [
    {
     "name": "stdout",
     "output_type": "stream",
     "text": [
      "Model: \"sequential_2\"\n",
      "_________________________________________________________________\n",
      "Layer (type)                 Output Shape              Param #   \n",
      "=================================================================\n",
      "noisy_linear_1 (NoisyLinear) multiple                  12        \n",
      "_________________________________________________________________\n",
      "dense_10 (Dense)             multiple                  20        \n",
      "_________________________________________________________________\n",
      "dense_11 (Dense)             multiple                  20        \n",
      "_________________________________________________________________\n",
      "dense_12 (Dense)             multiple                  5         \n",
      "=================================================================\n",
      "Total params: 57\n",
      "Trainable params: 57\n",
      "Non-trainable params: 0\n",
      "_________________________________________________________________\n"
     ]
    }
   ],
   "source": [
    "tf.random.set_seed(1)\n",
    "model = tf.keras.Sequential([\n",
    "    NoisyLinear(output_dim=4, noise_stddev=0.1),\n",
    "    tf.keras.layers.Dense(units=4, activation='relu'),\n",
    "    tf.keras.layers.Dense(units=4, activation='relu'),\n",
    "    tf.keras.layers.Dense(units=1, activation='sigmoid')])\n",
    "\n",
    "model.build(input_shape=(None, 2))\n",
    "model.summary()\n",
    "\n",
    "# compile:\n",
    "model.compile(optimizer=tf.keras.optimizers.SGD(),\n",
    "              loss =    tf.keras.losses.BinaryCrossentropy(),\n",
    "              metrics =[tf.keras.metrics.BinaryAccuracy()])\n",
    "\n",
    "# train:\n",
    "hist = model.fit(x_train, y_train, \n",
    "                 validation_data=(x_valid, y_valid), \n",
    "                 epochs=200, batch_size=2, verbose=0)\n",
    "history = hist.history"
   ]
  },
  {
   "cell_type": "code",
   "execution_count": 38,
   "metadata": {},
   "outputs": [
    {
     "data": {
      "image/png": "[encoded data removed]",
      "text/plain": [
       "<Figure size 1152x288 with 3 Axes>"
      ]
     },
     "metadata": {
      "needs_background": "light"
     },
     "output_type": "display_data"
    }
   ],
   "source": [
    "creating_stat_for_model()"
   ]
  },
  {
   "cell_type": "code",
   "execution_count": null,
   "metadata": {},
   "outputs": [],
   "source": []
  }
 ],
 "metadata": {
  "kernelspec": {
   "display_name": "Python 3",
   "language": "python",
   "name": "python3"
  },
  "language_info": {
   "codemirror_mode": {
    "name": "ipython",
    "version": 3
   },
   "file_extension": ".py",
   "mimetype": "text/x-python",
   "name": "python",
   "nbconvert_exporter": "python",
   "pygments_lexer": "ipython3",
   "version": "3.6.9"
  }
 },
 "nbformat": 4,
 "nbformat_minor": 4
}
