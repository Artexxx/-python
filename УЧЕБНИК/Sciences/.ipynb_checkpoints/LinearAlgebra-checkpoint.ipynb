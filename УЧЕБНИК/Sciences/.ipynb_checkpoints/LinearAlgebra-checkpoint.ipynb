{
 "cells": [
  {
   "cell_type": "code",
   "execution_count": 38,
   "metadata": {},
   "outputs": [],
   "source": [
    "import matplotlib.pyplot as plt\n",
    "import numpy as np\n",
    "import pandas as pd\n",
    "import seaborn as sns\n",
    "plt.rcParams['figure.figsize'] = 6, 4"
   ]
  },
  {
   "cell_type": "code",
   "execution_count": 61,
   "metadata": {},
   "outputs": [],
   "source": [
    "def coordinate_system(a):\n",
    "    \"\"\"\n",
    "    Создаёт пустую систему координат.\n",
    "        a(int) управляет масштабом\n",
    "    \"\"\"\n",
    "    plt.axhline(y=0, c='black')\n",
    "    plt.axvline(x=0, c='black')\n",
    "    plt.grid() \n",
    "    plt.xlim(-2.5*a, 2.5*a)\n",
    "    plt.ylim(-3*a, 4*a)\n",
    "    return plt"
   ]
  },
  {
   "cell_type": "markdown",
   "metadata": {},
   "source": [
    "### $\\begin{cases}\n",
    "2x-y=0 \\\\\n",
    "-x +2y = 3\n",
    "\\end{cases}$ \n",
    ">Матричная форма записи этого уравнения:\n",
    "$\\begin{bmatrix}2&-1\\\\-1&2\\end{bmatrix}\n",
    " \\begin{bmatrix} x \\\\ y \\end{bmatrix}=\n",
    " \\begin{bmatrix} 0 \\\\ 3 \\end{bmatrix}$\n",
    "\n",
    "Обычно называют первую матрицу- матрицей коэффициентов $A$, вторую матрицу - вектором $x$, третью матрицу - вектором $b$ \n",
    "<br>Система линейных уравнений может быть записана как $Ax=b。$\n"
   ]
  },
  {
   "cell_type": "code",
   "execution_count": 56,
   "metadata": {},
   "outputs": [
    {
     "data": {
      "image/png": "[encoded data removed]",
      "text/plain": [
       "<Figure size 432x288 with 1 Axes>"
      ]
     },
     "metadata": {
      "needs_background": "light"
     },
     "output_type": "display_data"
    }
   ],
   "source": [
    "coordinate_system(0.8)\n",
    "x = [-2, 2, -2, 2]\n",
    "y = [-4, 4, 0.5, 2.5]\n",
    "plt.plot(x[:2], y[:2], x[2:], y[2:]);"
   ]
  },
  {
   "cell_type": "markdown",
   "metadata": {},
   "source": [
    "$x\\begin{bmatrix}2 \\\\ -1\\end{bmatrix}+y\n",
    "  \\begin{bmatrix}-1\\\\  2\\end{bmatrix}=\n",
    "  \\begin{bmatrix}0 \\\\  3\\end{bmatrix}$\n",
    "чтобы эта функция выполнилась, 2 вектор ($col_2$) должен быть в 2 раза больше 1($col_1$)\n",
    "<br>Плучаем вектора:\n",
    ">$1\\begin{bmatrix}2 \\\\ -1\\end{bmatrix}+2\n",
    "  \\begin{bmatrix}-1\\\\  2\\end{bmatrix}=\n",
    "  \\begin{bmatrix}0 \\\\3  \\end{bmatrix}$"
   ]
  },
  {
   "cell_type": "code",
   "execution_count": 70,
   "metadata": {},
   "outputs": [
    {
     "data": {
      "image/png": "[encoded data removed]",
      "text/plain": [
       "<Figure size 432x288 with 1 Axes>"
      ]
     },
     "metadata": {
      "needs_background": "light"
     },
     "output_type": "display_data"
    }
   ],
   "source": [
    "from functools import partial\n",
    "coordinate_system(0.8)\n",
    "arrow_vector = partial(plt.arrow, width=0.01, head_width=0.1, head_length=0.2, length_includes_head=True)\n",
    "\n",
    "arrow_vector(0, 0, 2, -1, color='g')  # col1\n",
    "arrow_vector(0, 0, -1, 2, color='c')  # col2 \n",
    "arrow_vector(0, 0, 0, 3, width=0.05, color='r'); # b0\n",
    "arrow_vector(2, -1, -2, 4, color='b'); # b0 - col1"
   ]
  },
  {
   "cell_type": "markdown",
   "metadata": {},
   "source": [
    "Как показано, разность красного вектора $b0$ с зеленым вектором $col_1$ в два раза больше сине-зеленого вектора ($col_2$)"
   ]
  },
  {
   "cell_type": "markdown",
   "metadata": {},
   "source": [
    "# Метод исключения [ Гаусса ](https://studopedia.ru/2_34125_metod-polnogo-isklyucheniya-dlya-resheniya-sistemi-lineynih-uravneniy.html)\n",
    "$\\begin{cases}\n",
    " x&   + 2y& + z&=2\n",
    "\\\\3x& + 8y& + z&=12\n",
    "\\\\&4y&+ z& =2\\end{cases}$\n",
    "  Уравнение для 3 неизвестных чисел\n",
    "> Матричная форма записи этого уравнения $Ax=b$\n",
    "$A=\\begin{bmatrix} 1& 2& 1  \\\\ 3& 8& 1  \\\\0& 4& 1\\end{bmatrix} \n",
    "   \\begin{bmatrix}x\\\\y\\\\z \\end{bmatrix}=\n",
    "   \\begin{bmatrix}2\\\\12\\\\2\\end{bmatrix}$\n",
    "\n",
    "### 1 шаг:\n",
    ">исключение во 2м уравнение $x$<br>\n",
    "$\\begin{bmatrix}\\underline{1} &2 &1\\\\ 3& 8& 1\\\\0& 4& 1\\end{bmatrix}\n",
    "\\xrightarrow{row_2-3row_1}\n",
    "\\begin{bmatrix}\\underline{1}&2&1\\\\0&2&-2\\\\0&4&1\\end{bmatrix}$\n",
    "  \n",
    "### 2 шаг:\n",
    ">исключение в 3м уравнение $y$<br>\n",
    "$\\begin{bmatrix}\\underline{1} &2 &1 \\\\ 0& \\underline{2}& -2\\\\ 0& 4& 1\\end{bmatrix}\n",
    "\\xrightarrow{row_3-2row_2}\n",
    "\\begin{bmatrix}\\underline{1} &2 &1  \\\\ 0& \\underline{2}& -2\\\\ 0& 0& \\underline{5}\\end{bmatrix}$\n",
    "\n",
    "### Ответ:\n",
    "> $\\begin{cases} x& + 2y& + z& = 2 \\\\& 2y& - 2z& = 6\\\\& & 5z& = -10\\end{cases}$\n",
    "<br> Из третьего уравнения $z=−2$, подставляя второе уравнение $y=1$, подставляя в первое уравнение $x=2$"
   ]
  }
 ],
 "metadata": {
  "kernelspec": {
   "display_name": "Python 3",
   "language": "python",
   "name": "python3"
  },
  "language_info": {
   "codemirror_mode": {
    "name": "ipython",
    "version": 3
   },
   "file_extension": ".py",
   "mimetype": "text/x-python",
   "name": "python",
   "nbconvert_exporter": "python",
   "pygments_lexer": "ipython3",
   "version": "3.6.9"
  }
 },
 "nbformat": 4,
 "nbformat_minor": 4
}
