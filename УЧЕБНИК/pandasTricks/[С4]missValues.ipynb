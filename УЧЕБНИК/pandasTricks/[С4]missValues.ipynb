{
 "cells": [
  {
   "cell_type": "markdown",
   "metadata": {},
   "source": [
    "# Работа с пропущенными значениями\n",
    "### [Вернуться назад](https://github.com/Artexxx/Artem-python/blob/master/УЧЕБНИК/pandasTricks/README.md)"
   ]
  },
  {
   "cell_type": "code",
   "execution_count": 49,
   "metadata": {},
   "outputs": [
    {
     "data": {
      "text/html": [
       "<div>\n",
       "<style scoped>\n",
       "    .dataframe tbody tr th:only-of-type {\n",
       "        vertical-align: middle;\n",
       "    }\n",
       "\n",
       "    .dataframe tbody tr th {\n",
       "        vertical-align: top;\n",
       "    }\n",
       "\n",
       "    .dataframe thead th {\n",
       "        text-align: right;\n",
       "    }\n",
       "</style>\n",
       "<table border=\"1\" class=\"dataframe\">\n",
       "  <thead>\n",
       "    <tr style=\"text-align: right;\">\n",
       "      <th></th>\n",
       "      <th>A</th>\n",
       "      <th>A.1</th>\n",
       "      <th>B</th>\n",
       "      <th>C</th>\n",
       "      <th>D</th>\n",
       "    </tr>\n",
       "  </thead>\n",
       "  <tbody>\n",
       "    <tr>\n",
       "      <th>0</th>\n",
       "      <td>FTwK90BRwl</td>\n",
       "      <td>1.042050</td>\n",
       "      <td>0.408007</td>\n",
       "      <td>-1.147120</td>\n",
       "      <td>-0.564567</td>\n",
       "    </tr>\n",
       "    <tr>\n",
       "      <th>1</th>\n",
       "      <td>VC1JaJR8Tr</td>\n",
       "      <td>-0.604667</td>\n",
       "      <td>-0.395873</td>\n",
       "      <td>1.437012</td>\n",
       "      <td>-1.066924</td>\n",
       "    </tr>\n",
       "    <tr>\n",
       "      <th>2</th>\n",
       "      <td>4ldakZDlTn</td>\n",
       "      <td>NaN</td>\n",
       "      <td>1.650980</td>\n",
       "      <td>0.187050</td>\n",
       "      <td>1.146064</td>\n",
       "    </tr>\n",
       "    <tr>\n",
       "      <th>3</th>\n",
       "      <td>88YTk4a4fT</td>\n",
       "      <td>1.984666</td>\n",
       "      <td>-0.634435</td>\n",
       "      <td>-0.002925</td>\n",
       "      <td>0.792842</td>\n",
       "    </tr>\n",
       "    <tr>\n",
       "      <th>4</th>\n",
       "      <td>dOKulhCyER</td>\n",
       "      <td>2.003698</td>\n",
       "      <td>0.430636</td>\n",
       "      <td>0.420581</td>\n",
       "      <td>-0.334050</td>\n",
       "    </tr>\n",
       "  </tbody>\n",
       "</table>\n",
       "</div>"
      ],
      "text/plain": [
       "            A       A.1         B         C         D\n",
       "0  FTwK90BRwl  1.042050  0.408007 -1.147120 -0.564567\n",
       "1  VC1JaJR8Tr -0.604667 -0.395873  1.437012 -1.066924\n",
       "2  4ldakZDlTn       NaN  1.650980  0.187050  1.146064\n",
       "3  88YTk4a4fT  1.984666 -0.634435 -0.002925  0.792842\n",
       "4  dOKulhCyER  2.003698  0.430636  0.420581 -0.334050"
      ]
     },
     "execution_count": 49,
     "metadata": {},
     "output_type": "execute_result"
    }
   ],
   "source": [
    "import seaborn as sns\n",
    "import pandas as pd\n",
    "df = pd.read_csv('data/NaN.csv', sep='\\t')\n",
    "df.head()"
   ]
  },
  {
   "cell_type": "markdown",
   "metadata": {},
   "source": [
    "### Построить тепловую карту пустых мест в таблице"
   ]
  },
  {
   "cell_type": "code",
   "execution_count": 50,
   "metadata": {
    "scrolled": true
   },
   "outputs": [
    {
     "data": {
      "image/png": "[encoded data removed]",
      "text/plain": [
       "<Figure size 432x288 with 2 Axes>"
      ]
     },
     "metadata": {
      "needs_background": "light"
     },
     "output_type": "display_data"
    }
   ],
   "source": [
    "sns.heatmap(df.isnull(), xticklabels=True, yticklabels=False, cmap='viridis')  ;"
   ]
  },
  {
   "cell_type": "markdown",
   "metadata": {},
   "source": [
    "### 1. Удаление колонок или строк с пропусками \n",
    " * `thresh` -- порог не пустых значений для не удаления "
   ]
  },
  {
   "cell_type": "code",
   "execution_count": 51,
   "metadata": {},
   "outputs": [
    {
     "data": {
      "text/html": [
       "<div>\n",
       "<style scoped>\n",
       "    .dataframe tbody tr th:only-of-type {\n",
       "        vertical-align: middle;\n",
       "    }\n",
       "\n",
       "    .dataframe tbody tr th {\n",
       "        vertical-align: top;\n",
       "    }\n",
       "\n",
       "    .dataframe thead th {\n",
       "        text-align: right;\n",
       "    }\n",
       "</style>\n",
       "<table border=\"1\" class=\"dataframe\">\n",
       "  <thead>\n",
       "    <tr style=\"text-align: right;\">\n",
       "      <th></th>\n",
       "      <th>A</th>\n",
       "      <th>C</th>\n",
       "    </tr>\n",
       "  </thead>\n",
       "  <tbody>\n",
       "    <tr>\n",
       "      <th>0</th>\n",
       "      <td>FTwK90BRwl</td>\n",
       "      <td>-1.147120</td>\n",
       "    </tr>\n",
       "    <tr>\n",
       "      <th>1</th>\n",
       "      <td>VC1JaJR8Tr</td>\n",
       "      <td>1.437012</td>\n",
       "    </tr>\n",
       "    <tr>\n",
       "      <th>2</th>\n",
       "      <td>4ldakZDlTn</td>\n",
       "      <td>0.187050</td>\n",
       "    </tr>\n",
       "    <tr>\n",
       "      <th>3</th>\n",
       "      <td>88YTk4a4fT</td>\n",
       "      <td>-0.002925</td>\n",
       "    </tr>\n",
       "    <tr>\n",
       "      <th>4</th>\n",
       "      <td>dOKulhCyER</td>\n",
       "      <td>0.420581</td>\n",
       "    </tr>\n",
       "  </tbody>\n",
       "</table>\n",
       "</div>"
      ],
      "text/plain": [
       "            A         C\n",
       "0  FTwK90BRwl -1.147120\n",
       "1  VC1JaJR8Tr  1.437012\n",
       "2  4ldakZDlTn  0.187050\n",
       "3  88YTk4a4fT -0.002925\n",
       "4  dOKulhCyER  0.420581"
      ]
     },
     "execution_count": 51,
     "metadata": {},
     "output_type": "execute_result"
    }
   ],
   "source": [
    "df.dropna(axis = \"index\")\n",
    "df.dropna(axis = \"columns\")\n",
    "df.dropna(thresh = len(df)*0.95, axis = \"columns\")\\\n",
    ".head()"
   ]
  },
  {
   "cell_type": "markdown",
   "metadata": {},
   "source": [
    "### 2. Изменить пустые значения"
   ]
  },
  {
   "cell_type": "code",
   "execution_count": 59,
   "metadata": {},
   "outputs": [],
   "source": [
    "df.fillna({'A.1':0, 'B':1,}, inplace=True)\n",
    "df.fillna(df.mean(), inplace=True) "
   ]
  }
 ],
 "metadata": {
  "kernelspec": {
   "display_name": "Python 3",
   "language": "python",
   "name": "python3"
  },
  "language_info": {
   "codemirror_mode": {
    "name": "ipython",
    "version": 3
   },
   "file_extension": ".py",
   "mimetype": "text/x-python",
   "name": "python",
   "nbconvert_exporter": "python",
   "pygments_lexer": "ipython3",
   "version": "3.6.9"
  }
 },
 "nbformat": 4,
 "nbformat_minor": 4
}
